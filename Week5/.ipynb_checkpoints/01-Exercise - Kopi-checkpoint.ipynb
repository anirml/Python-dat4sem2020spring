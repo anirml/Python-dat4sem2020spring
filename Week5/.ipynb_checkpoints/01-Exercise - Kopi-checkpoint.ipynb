{
 "cells": [
  {
   "cell_type": "markdown",
   "metadata": {},
   "source": [
    "## Week 5 Class-Exercise 1"
   ]
  },
  {
   "cell_type": "markdown",
   "metadata": {},
   "source": [
    "#### Open a new Jupyter notebook and call it \"01 class exercise\"\n",
    "\n",
    "#### Create the first cell as a Markdown cell and give it a Headline (single #) called Class exercise 1:\n",
    "\n",
    "#### Add this image to the cell: https://miro.medium.com/max/1266/1*Pb8oEA1nGIONsSJk7QSVzg.png using this syntax ![](image url)\n",
    "\n",
    "#### The next cell should be a code cell that can take 2 floats from a user input and multiply them printing out the result."
   ]
  },
  {
   "cell_type": "markdown",
   "metadata": {},
   "source": [
    "### Class exercise 1:"
   ]
  },
  {
   "cell_type": "markdown",
   "metadata": {},
   "source": [
    "![](https://miro.medium.com/max/1266/1*Pb8oEA1nGIONsSJk7QSVzg.png)\n",
    "The next cell should be a code cell that can take 2 floats from a user input and multiply them printing out the result."
   ]
  },
  {
   "cell_type": "code",
   "execution_count": 3,
   "metadata": {},
   "outputs": [
    {
     "name": "stdout",
     "output_type": "stream",
     "text": [
      "write a number2.5\n",
      "write another number2.5\n",
      "6.25\n"
     ]
    }
   ],
   "source": [
    "i1 = input(\"write a number\")\n",
    "i2 = input(\"write another number\")\n",
    "\n",
    "result = float(i1) * float(i2)\n",
    "\n",
    "print(result)"
   ]
  }
 ],
 "metadata": {
  "kernelspec": {
   "display_name": "Python 3",
   "language": "python",
   "name": "python3"
  },
  "language_info": {
   "codemirror_mode": {
    "name": "ipython",
    "version": 3
   },
   "file_extension": ".py",
   "mimetype": "text/x-python",
   "name": "python",
   "nbconvert_exporter": "python",
   "pygments_lexer": "ipython3",
   "version": "3.7.4"
  }
 },
 "nbformat": 4,
 "nbformat_minor": 2
}
