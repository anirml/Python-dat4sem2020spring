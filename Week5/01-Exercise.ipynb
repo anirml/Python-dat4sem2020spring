{
 "cells": [
  {
   "cell_type": "markdown",
   "metadata": {},
   "source": [
    "## Week 5 Exercise"
   ]
  },
  {
   "cell_type": "markdown",
   "metadata": {},
   "source": [
    "### 1. Create 5 list comprehensions to solve the following 5 problems:"
   ]
  },
  {
   "cell_type": "markdown",
   "metadata": {},
   "source": [
    "#### 1.A Iterate a list of names to return a list of the names starting with H"
   ]
  },
  {
   "cell_type": "code",
   "execution_count": 18,
   "metadata": {},
   "outputs": [
    {
     "name": "stdout",
     "output_type": "stream",
     "text": [
      "['Hans', 'Helena']\n"
     ]
    }
   ],
   "source": [
    "names = ['Jens', 'Hans', 'Troels', 'Helena','Jesper','Lasse']\n",
    "result = [n for n in names if n.startswith('H')]\n",
    "print(result) #We dont need to use print to get the output!"
   ]
  },
  {
   "cell_type": "markdown",
   "metadata": {},
   "source": [
    "#### 1.B In one line create a list of the numbers 1-100 to the power of 3"
   ]
  },
  {
   "cell_type": "code",
   "execution_count": 20,
   "metadata": {},
   "outputs": [
    {
     "name": "stdout",
     "output_type": "stream",
     "text": [
      "[1, 8, 27, 64, 125, 216, 343, 512, 729, 1000, 1331, 1728, 2197, 2744, 3375, 4096, 4913, 5832, 6859, 8000, 9261, 10648, 12167, 13824, 15625, 17576, 19683, 21952, 24389, 27000, 29791, 32768, 35937, 39304, 42875, 46656, 50653, 54872, 59319, 64000, 68921, 74088, 79507, 85184, 91125, 97336, 103823, 110592, 117649, 125000, 132651, 140608, 148877, 157464, 166375, 175616, 185193, 195112, 205379, 216000, 226981, 238328, 250047, 262144, 274625, 287496, 300763, 314432, 328509, 343000, 357911, 373248, 389017, 405224, 421875, 438976, 456533, 474552, 493039, 512000, 531441, 551368, 571787, 592704, 614125, 636056, 658503, 681472, 704969, 729000, 753571, 778688, 804357, 830584, 857375, 884736, 912673, 941192, 970299, 1000000]\n"
     ]
    }
   ],
   "source": [
    "numberList = [value**3 for value in range(1, 101) if value < 101]\n",
    "print(numberList)"
   ]
  },
  {
   "cell_type": "markdown",
   "metadata": {},
   "source": [
    "#### 1.C Iterate a list of names to create a list of tuples where the tuples first value is the length of the name and the second is the name"
   ]
  },
  {
   "cell_type": "code",
   "execution_count": 93,
   "metadata": {},
   "outputs": [
    {
     "name": "stdout",
     "output_type": "stream",
     "text": [
      "[(4, 'Jens'), (4, 'Hans'), (6, 'Troels'), (6, 'Helena'), (6, 'Jesper'), (5, 'Lasse')]\n",
      "((4, 'Jens'), (4, 'Hans'), (6, 'Troels'), (6, 'Helena'), (6, 'Jesper'), (5, 'Lasse'))\n"
     ]
    }
   ],
   "source": [
    "names = ['Jens', 'Hans', 'Troels', 'Helena','Jesper','Lasse']\n",
    "listnames = [(len(v), v) for v in names]\n",
    "\n",
    "print(listnames)\n",
    "\n",
    "listnamesTuple = tuple(listnames)\n",
    "#listnamesTuple[2] = (2,'Kalle') # Doesn't work TypeError: 'tuple' object does not support item assignment\n",
    "print(listnamesTuple)\n"
   ]
  },
  {
   "cell_type": "markdown",
   "metadata": {},
   "source": [
    "#### 1.D Iterate over each character in a string and get only those that are nummeric"
   ]
  },
  {
   "cell_type": "code",
   "execution_count": 97,
   "metadata": {},
   "outputs": [
    {
     "name": "stdout",
     "output_type": "stream",
     "text": [
      "['1', '6', '2', '5', '3']\n"
     ]
    }
   ],
   "source": [
    "someString = 'hejsa16bbb25f3'\n",
    "numbersSomeString = [i for i in someString if i.isdigit()]\n",
    "print(numbersSomeString)"
   ]
  },
  {
   "cell_type": "markdown",
   "metadata": {},
   "source": [
    "#### 1.E Using only a list comprehension wrapped in set() get all possible combination from throwing 2 dice"
   ]
  },
  {
   "cell_type": "code",
   "execution_count": 104,
   "metadata": {
    "scrolled": false
   },
   "outputs": [
    {
     "data": {
      "text/plain": [
       "{(1, 1),\n",
       " (1, 2),\n",
       " (1, 3),\n",
       " (1, 4),\n",
       " (1, 5),\n",
       " (1, 6),\n",
       " (2, 1),\n",
       " (2, 2),\n",
       " (2, 3),\n",
       " (2, 4),\n",
       " (2, 5),\n",
       " (2, 6),\n",
       " (3, 1),\n",
       " (3, 2),\n",
       " (3, 3),\n",
       " (3, 4),\n",
       " (3, 5),\n",
       " (3, 6),\n",
       " (4, 1),\n",
       " (4, 2),\n",
       " (4, 3),\n",
       " (4, 4),\n",
       " (4, 5),\n",
       " (4, 6),\n",
       " (5, 1),\n",
       " (5, 2),\n",
       " (5, 3),\n",
       " (5, 4),\n",
       " (5, 5),\n",
       " (5, 6),\n",
       " (6, 1),\n",
       " (6, 2),\n",
       " (6, 3),\n",
       " (6, 4),\n",
       " (6, 5),\n",
       " (6, 6)}"
      ]
     },
     "execution_count": 104,
     "metadata": {},
     "output_type": "execute_result"
    }
   ],
   "source": [
    "twoDice = set([(d1, d2) for d1 in range(1,7) for d2 in range(1,7)])\n",
    "twoDice"
   ]
  },
  {
   "cell_type": "markdown",
   "metadata": {},
   "source": [
    "### 2. Create 2 dictionary comprehensions to solve the following:"
   ]
  },
  {
   "cell_type": "markdown",
   "metadata": {},
   "source": [
    "#### 2.A Iterate a list of names and create a dictionary where key is the name and value is the length of the name"
   ]
  },
  {
   "cell_type": "code",
   "execution_count": 111,
   "metadata": {},
   "outputs": [
    {
     "data": {
      "text/plain": [
       "{'Jens': 4, 'Hans': 4, 'Troels': 6, 'Helena': 6, 'Jesper': 6, 'Lasse': 5}"
      ]
     },
     "execution_count": 111,
     "metadata": {},
     "output_type": "execute_result"
    }
   ],
   "source": [
    "names = ['Jens', 'Hans', 'Troels', 'Helena','Jesper','Lasse']\n",
    "dNames = {name:len(name) for name in names}\n",
    "dNames"
   ]
  },
  {
   "cell_type": "markdown",
   "metadata": {},
   "source": [
    "#### 2.B Iterate a list of numbers and create a dictionary with (key, value) being (number, squareroot of number)"
   ]
  },
  {
   "cell_type": "code",
   "execution_count": 117,
   "metadata": {
    "scrolled": true
   },
   "outputs": [
    {
     "data": {
      "text/plain": [
       "{1: 1.0,\n",
       " 4: 2.0,\n",
       " 6: 2.449489742783178,\n",
       " 7: 2.6457513110645907,\n",
       " 2: 1.4142135623730951,\n",
       " 5: 2.23606797749979,\n",
       " 73: 8.54400374531753,\n",
       " 35: 5.916079783099616,\n",
       " 11: 3.3166247903554,\n",
       " 34: 5.830951894845301,\n",
       " 25: 5.0,\n",
       " 26: 5.0990195135927845}"
      ]
     },
     "execution_count": 117,
     "metadata": {},
     "output_type": "execute_result"
    }
   ],
   "source": [
    "import math\n",
    "numbers = [1,4,6,7,2,5,6,73,35,11,34,25,26,]\n",
    "dNumbers = {n: math.sqrt(n) for n in numbers}\n",
    "dNumbers"
   ]
  },
  {
   "cell_type": "markdown",
   "metadata": {},
   "source": [
    "### 3. Progammatically using loops create a small program to produce a dictionary with all the 2 dice throw combinations as keys and their likelyhood in percent as values"
   ]
  },
  {
   "cell_type": "code",
   "execution_count": 130,
   "metadata": {},
   "outputs": [
    {
     "data": {
      "text/plain": [
       "{2: 2.7777777777777777,\n",
       " 3: 5.555555555555555,\n",
       " 4: 8.333333333333334,\n",
       " 5: 11.11111111111111,\n",
       " 6: 13.88888888888889,\n",
       " 7: 16.666666666666668,\n",
       " 8: 13.88888888888889,\n",
       " 9: 11.11111111111111,\n",
       " 10: 8.333333333333334,\n",
       " 11: 5.555555555555555,\n",
       " 12: 2.7777777777777777}"
      ]
     },
     "execution_count": 130,
     "metadata": {},
     "output_type": "execute_result"
    }
   ],
   "source": [
    "allPossibleOutcomes = [(d1) + (d2)for d1 in range(1,7) for d2 in range(1,7)]\n",
    "# 36 possible outcomes with 2 dices. 6**2 = 36.\n",
    "dict2DiceChance = {diceEyes: (allPossibleOutcomes.count(diceEyes)*100/36) for diceEyes in allPossibleOutcomes}\n",
    "dict2DiceChance\n",
    "\n",
    "\n"
   ]
  }
 ],
 "metadata": {
  "kernelspec": {
   "display_name": "Python 3",
   "language": "python",
   "name": "python3"
  },
  "language_info": {
   "codemirror_mode": {
    "name": "ipython",
    "version": 3
   },
   "file_extension": ".py",
   "mimetype": "text/x-python",
   "name": "python",
   "nbconvert_exporter": "python",
   "pygments_lexer": "ipython3",
   "version": "3.7.4"
  }
 },
 "nbformat": 4,
 "nbformat_minor": 2
}
