{
 "cells": [
  {
   "cell_type": "markdown",
   "metadata": {
    "slideshow": {
     "slide_type": "subslide"
    }
   },
   "source": [
    "## Your model versus the population\n",
    "\n",
    "A sample is a **subset** of a population.\n",
    "\n",
    "You will likely **never** have data that covers the entire population."
   ]
  },
  {
   "cell_type": "markdown",
   "metadata": {
    "slideshow": {
     "slide_type": "fragment"
    }
   },
   "source": [
    "That means that you will likely **never** be able to represent the entire population!\n",
    "\n",
    "Your model will lie!"
   ]
  },
  {
   "cell_type": "markdown",
   "metadata": {
    "slideshow": {
     "slide_type": "subslide"
    }
   },
   "source": [
    "## Populations\n",
    "\n",
    "![](images/pop1.png)"
   ]
  },
  {
   "cell_type": "markdown",
   "metadata": {
    "slideshow": {
     "slide_type": "subslide"
    }
   },
   "source": [
    "## The problem of overfitting\n",
    "Occam's razor implies that any given complex function is a priori less probable than any given simple function. If the new, more complicated function is selected instead of the simple function, and if there was not a large enough gain in training-data fit to offset the complexity increase, then the new complex function \"overfits\" the data, and the complex overfitted function will likely perform worse than the simpler function on validation data outside the training dataset, even though the complex function performed as well, or perhaps even better, on the training dataset\n",
    "\n",
    "![](images/overfitting.png)"
   ]
  },
  {
   "cell_type": "markdown",
   "metadata": {
    "slideshow": {
     "slide_type": "subslide"
    }
   },
   "source": [
    "## Carowners and voters\n",
    "\n",
    "In 1963 *millions* of mock ballots was mailed to carowners across the USA, to learn who would win the presidential election.\n",
    "\n",
    "The Republicans was a *clear* winner in the mock ballots, but the Democrats won the election.\n",
    "\n",
    "What went wrong?"
   ]
  },
  {
   "cell_type": "markdown",
   "metadata": {
    "slideshow": {
     "slide_type": "subslide"
    }
   },
   "source": [
    "## The problem of generalisation\n",
    "\n",
    "If X % of sample has Y it does **not** mean that X % of population has Y!\n",
    "\n",
    "**Always** ask yourself: is your data representative?"
   ]
  },
  {
   "cell_type": "markdown",
   "metadata": {
    "slideshow": {
     "slide_type": "subslide"
    }
   },
   "source": [
    "## Training and testing data\n",
    "\n",
    "We now have a split between \n",
    "* **Training data**: the data that the model sees\n",
    "* **Testing data**: the data that the model is tested against"
   ]
  },
  {
   "cell_type": "markdown",
   "metadata": {
    "slideshow": {
     "slide_type": "fragment"
    }
   },
   "source": [
    "Note: the model should **never** train on the testing data"
   ]
  },
  {
   "cell_type": "markdown",
   "metadata": {
    "slideshow": {
     "slide_type": "subslide"
    }
   },
   "source": [
    "## Sklearn `train_test_split`\n",
    "\n",
    "Splitting the data into testing and training makes it more likely that your model generalises.\n",
    "\n",
    "But it **does not guarantee it**!"
   ]
  },
  {
   "cell_type": "code",
   "execution_count": 1,
   "metadata": {
    "slideshow": {
     "slide_type": "subslide"
    }
   },
   "outputs": [
    {
     "name": "stdout",
     "output_type": "stream",
     "text": [
      "Populating the interactive namespace from numpy and matplotlib\n"
     ]
    }
   ],
   "source": [
    "%pylab inline"
   ]
  },
  {
   "cell_type": "code",
   "execution_count": 2,
   "metadata": {
    "slideshow": {
     "slide_type": "subslide"
    }
   },
   "outputs": [],
   "source": [
    "from sklearn.datasets import load_iris"
   ]
  },
  {
   "cell_type": "code",
   "execution_count": 3,
   "metadata": {
    "slideshow": {
     "slide_type": "fragment"
    }
   },
   "outputs": [
    {
     "data": {
      "text/plain": [
       "array([[5.1, 3.5, 1.4, 0.2],\n",
       "       [4.9, 3. , 1.4, 0.2],\n",
       "       [4.7, 3.2, 1.3, 0.2],\n",
       "       [4.6, 3.1, 1.5, 0.2],\n",
       "       [5. , 3.6, 1.4, 0.2],\n",
       "       [5.4, 3.9, 1.7, 0.4],\n",
       "       [4.6, 3.4, 1.4, 0.3],\n",
       "       [5. , 3.4, 1.5, 0.2],\n",
       "       [4.4, 2.9, 1.4, 0.2],\n",
       "       [4.9, 3.1, 1.5, 0.1],\n",
       "       [5.4, 3.7, 1.5, 0.2],\n",
       "       [4.8, 3.4, 1.6, 0.2],\n",
       "       [4.8, 3. , 1.4, 0.1],\n",
       "       [4.3, 3. , 1.1, 0.1],\n",
       "       [5.8, 4. , 1.2, 0.2],\n",
       "       [5.7, 4.4, 1.5, 0.4],\n",
       "       [5.4, 3.9, 1.3, 0.4],\n",
       "       [5.1, 3.5, 1.4, 0.3],\n",
       "       [5.7, 3.8, 1.7, 0.3],\n",
       "       [5.1, 3.8, 1.5, 0.3],\n",
       "       [5.4, 3.4, 1.7, 0.2],\n",
       "       [5.1, 3.7, 1.5, 0.4],\n",
       "       [4.6, 3.6, 1. , 0.2],\n",
       "       [5.1, 3.3, 1.7, 0.5],\n",
       "       [4.8, 3.4, 1.9, 0.2],\n",
       "       [5. , 3. , 1.6, 0.2],\n",
       "       [5. , 3.4, 1.6, 0.4],\n",
       "       [5.2, 3.5, 1.5, 0.2],\n",
       "       [5.2, 3.4, 1.4, 0.2],\n",
       "       [4.7, 3.2, 1.6, 0.2],\n",
       "       [4.8, 3.1, 1.6, 0.2],\n",
       "       [5.4, 3.4, 1.5, 0.4],\n",
       "       [5.2, 4.1, 1.5, 0.1],\n",
       "       [5.5, 4.2, 1.4, 0.2],\n",
       "       [4.9, 3.1, 1.5, 0.2],\n",
       "       [5. , 3.2, 1.2, 0.2],\n",
       "       [5.5, 3.5, 1.3, 0.2],\n",
       "       [4.9, 3.6, 1.4, 0.1],\n",
       "       [4.4, 3. , 1.3, 0.2],\n",
       "       [5.1, 3.4, 1.5, 0.2],\n",
       "       [5. , 3.5, 1.3, 0.3],\n",
       "       [4.5, 2.3, 1.3, 0.3],\n",
       "       [4.4, 3.2, 1.3, 0.2],\n",
       "       [5. , 3.5, 1.6, 0.6],\n",
       "       [5.1, 3.8, 1.9, 0.4],\n",
       "       [4.8, 3. , 1.4, 0.3],\n",
       "       [5.1, 3.8, 1.6, 0.2],\n",
       "       [4.6, 3.2, 1.4, 0.2],\n",
       "       [5.3, 3.7, 1.5, 0.2],\n",
       "       [5. , 3.3, 1.4, 0.2],\n",
       "       [7. , 3.2, 4.7, 1.4],\n",
       "       [6.4, 3.2, 4.5, 1.5],\n",
       "       [6.9, 3.1, 4.9, 1.5],\n",
       "       [5.5, 2.3, 4. , 1.3],\n",
       "       [6.5, 2.8, 4.6, 1.5],\n",
       "       [5.7, 2.8, 4.5, 1.3],\n",
       "       [6.3, 3.3, 4.7, 1.6],\n",
       "       [4.9, 2.4, 3.3, 1. ],\n",
       "       [6.6, 2.9, 4.6, 1.3],\n",
       "       [5.2, 2.7, 3.9, 1.4],\n",
       "       [5. , 2. , 3.5, 1. ],\n",
       "       [5.9, 3. , 4.2, 1.5],\n",
       "       [6. , 2.2, 4. , 1. ],\n",
       "       [6.1, 2.9, 4.7, 1.4],\n",
       "       [5.6, 2.9, 3.6, 1.3],\n",
       "       [6.7, 3.1, 4.4, 1.4],\n",
       "       [5.6, 3. , 4.5, 1.5],\n",
       "       [5.8, 2.7, 4.1, 1. ],\n",
       "       [6.2, 2.2, 4.5, 1.5],\n",
       "       [5.6, 2.5, 3.9, 1.1],\n",
       "       [5.9, 3.2, 4.8, 1.8],\n",
       "       [6.1, 2.8, 4. , 1.3],\n",
       "       [6.3, 2.5, 4.9, 1.5],\n",
       "       [6.1, 2.8, 4.7, 1.2],\n",
       "       [6.4, 2.9, 4.3, 1.3],\n",
       "       [6.6, 3. , 4.4, 1.4],\n",
       "       [6.8, 2.8, 4.8, 1.4],\n",
       "       [6.7, 3. , 5. , 1.7],\n",
       "       [6. , 2.9, 4.5, 1.5],\n",
       "       [5.7, 2.6, 3.5, 1. ],\n",
       "       [5.5, 2.4, 3.8, 1.1],\n",
       "       [5.5, 2.4, 3.7, 1. ],\n",
       "       [5.8, 2.7, 3.9, 1.2],\n",
       "       [6. , 2.7, 5.1, 1.6],\n",
       "       [5.4, 3. , 4.5, 1.5],\n",
       "       [6. , 3.4, 4.5, 1.6],\n",
       "       [6.7, 3.1, 4.7, 1.5],\n",
       "       [6.3, 2.3, 4.4, 1.3],\n",
       "       [5.6, 3. , 4.1, 1.3],\n",
       "       [5.5, 2.5, 4. , 1.3],\n",
       "       [5.5, 2.6, 4.4, 1.2],\n",
       "       [6.1, 3. , 4.6, 1.4],\n",
       "       [5.8, 2.6, 4. , 1.2],\n",
       "       [5. , 2.3, 3.3, 1. ],\n",
       "       [5.6, 2.7, 4.2, 1.3],\n",
       "       [5.7, 3. , 4.2, 1.2],\n",
       "       [5.7, 2.9, 4.2, 1.3],\n",
       "       [6.2, 2.9, 4.3, 1.3],\n",
       "       [5.1, 2.5, 3. , 1.1],\n",
       "       [5.7, 2.8, 4.1, 1.3],\n",
       "       [6.3, 3.3, 6. , 2.5],\n",
       "       [5.8, 2.7, 5.1, 1.9],\n",
       "       [7.1, 3. , 5.9, 2.1],\n",
       "       [6.3, 2.9, 5.6, 1.8],\n",
       "       [6.5, 3. , 5.8, 2.2],\n",
       "       [7.6, 3. , 6.6, 2.1],\n",
       "       [4.9, 2.5, 4.5, 1.7],\n",
       "       [7.3, 2.9, 6.3, 1.8],\n",
       "       [6.7, 2.5, 5.8, 1.8],\n",
       "       [7.2, 3.6, 6.1, 2.5],\n",
       "       [6.5, 3.2, 5.1, 2. ],\n",
       "       [6.4, 2.7, 5.3, 1.9],\n",
       "       [6.8, 3. , 5.5, 2.1],\n",
       "       [5.7, 2.5, 5. , 2. ],\n",
       "       [5.8, 2.8, 5.1, 2.4],\n",
       "       [6.4, 3.2, 5.3, 2.3],\n",
       "       [6.5, 3. , 5.5, 1.8],\n",
       "       [7.7, 3.8, 6.7, 2.2],\n",
       "       [7.7, 2.6, 6.9, 2.3],\n",
       "       [6. , 2.2, 5. , 1.5],\n",
       "       [6.9, 3.2, 5.7, 2.3],\n",
       "       [5.6, 2.8, 4.9, 2. ],\n",
       "       [7.7, 2.8, 6.7, 2. ],\n",
       "       [6.3, 2.7, 4.9, 1.8],\n",
       "       [6.7, 3.3, 5.7, 2.1],\n",
       "       [7.2, 3.2, 6. , 1.8],\n",
       "       [6.2, 2.8, 4.8, 1.8],\n",
       "       [6.1, 3. , 4.9, 1.8],\n",
       "       [6.4, 2.8, 5.6, 2.1],\n",
       "       [7.2, 3. , 5.8, 1.6],\n",
       "       [7.4, 2.8, 6.1, 1.9],\n",
       "       [7.9, 3.8, 6.4, 2. ],\n",
       "       [6.4, 2.8, 5.6, 2.2],\n",
       "       [6.3, 2.8, 5.1, 1.5],\n",
       "       [6.1, 2.6, 5.6, 1.4],\n",
       "       [7.7, 3. , 6.1, 2.3],\n",
       "       [6.3, 3.4, 5.6, 2.4],\n",
       "       [6.4, 3.1, 5.5, 1.8],\n",
       "       [6. , 3. , 4.8, 1.8],\n",
       "       [6.9, 3.1, 5.4, 2.1],\n",
       "       [6.7, 3.1, 5.6, 2.4],\n",
       "       [6.9, 3.1, 5.1, 2.3],\n",
       "       [5.8, 2.7, 5.1, 1.9],\n",
       "       [6.8, 3.2, 5.9, 2.3],\n",
       "       [6.7, 3.3, 5.7, 2.5],\n",
       "       [6.7, 3. , 5.2, 2.3],\n",
       "       [6.3, 2.5, 5. , 1.9],\n",
       "       [6.5, 3. , 5.2, 2. ],\n",
       "       [6.2, 3.4, 5.4, 2.3],\n",
       "       [5.9, 3. , 5.1, 1.8]])"
      ]
     },
     "execution_count": 3,
     "metadata": {},
     "output_type": "execute_result"
    }
   ],
   "source": [
    "X = load_iris().data\n",
    "X"
   ]
  },
  {
   "cell_type": "code",
   "execution_count": 4,
   "metadata": {
    "slideshow": {
     "slide_type": "fragment"
    }
   },
   "outputs": [
    {
     "data": {
      "text/plain": [
       "array([0, 0, 0, 0, 0, 0, 0, 0, 0, 0, 0, 0, 0, 0, 0, 0, 0, 0, 0, 0, 0, 0,\n",
       "       0, 0, 0, 0, 0, 0, 0, 0, 0, 0, 0, 0, 0, 0, 0, 0, 0, 0, 0, 0, 0, 0,\n",
       "       0, 0, 0, 0, 0, 0, 1, 1, 1, 1, 1, 1, 1, 1, 1, 1, 1, 1, 1, 1, 1, 1,\n",
       "       1, 1, 1, 1, 1, 1, 1, 1, 1, 1, 1, 1, 1, 1, 1, 1, 1, 1, 1, 1, 1, 1,\n",
       "       1, 1, 1, 1, 1, 1, 1, 1, 1, 1, 1, 1, 2, 2, 2, 2, 2, 2, 2, 2, 2, 2,\n",
       "       2, 2, 2, 2, 2, 2, 2, 2, 2, 2, 2, 2, 2, 2, 2, 2, 2, 2, 2, 2, 2, 2,\n",
       "       2, 2, 2, 2, 2, 2, 2, 2, 2, 2, 2, 2, 2, 2, 2, 2, 2, 2])"
      ]
     },
     "execution_count": 4,
     "metadata": {},
     "output_type": "execute_result"
    }
   ],
   "source": [
    "y = load_iris().target\n",
    "y"
   ]
  },
  {
   "cell_type": "code",
   "execution_count": 5,
   "metadata": {},
   "outputs": [
    {
     "data": {
      "text/plain": [
       "array(['setosa', 'versicolor', 'virginica'], dtype='<U10')"
      ]
     },
     "execution_count": 5,
     "metadata": {},
     "output_type": "execute_result"
    }
   ],
   "source": [
    "load_iris().target_names"
   ]
  },
  {
   "cell_type": "code",
   "execution_count": 6,
   "metadata": {
    "slideshow": {
     "slide_type": "subslide"
    }
   },
   "outputs": [
    {
     "data": {
      "text/plain": [
       "[array([[6.6, 3. , 4.4, 1.4],\n",
       "        [6.1, 2.6, 5.6, 1.4],\n",
       "        [5.7, 4.4, 1.5, 0.4],\n",
       "        [4.8, 3. , 1.4, 0.3],\n",
       "        [5.5, 2.3, 4. , 1.3],\n",
       "        [7.2, 3.2, 6. , 1.8],\n",
       "        [6.7, 3.1, 4.4, 1.4],\n",
       "        [4.7, 3.2, 1.3, 0.2],\n",
       "        [5.4, 3.4, 1.5, 0.4],\n",
       "        [7.7, 2.8, 6.7, 2. ],\n",
       "        [6.3, 3.4, 5.6, 2.4],\n",
       "        [5.9, 3. , 5.1, 1.8],\n",
       "        [6.6, 2.9, 4.6, 1.3],\n",
       "        [4.4, 3. , 1.3, 0.2],\n",
       "        [5.7, 2.8, 4.1, 1.3],\n",
       "        [6. , 2.7, 5.1, 1.6],\n",
       "        [5.4, 3.9, 1.7, 0.4],\n",
       "        [5.8, 2.7, 5.1, 1.9],\n",
       "        [5.2, 2.7, 3.9, 1.4],\n",
       "        [5.2, 3.5, 1.5, 0.2],\n",
       "        [4.9, 2.5, 4.5, 1.7],\n",
       "        [5.4, 3. , 4.5, 1.5],\n",
       "        [7. , 3.2, 4.7, 1.4],\n",
       "        [6.7, 3.3, 5.7, 2.1],\n",
       "        [5.1, 3.8, 1.6, 0.2],\n",
       "        [5.8, 2.6, 4. , 1.2],\n",
       "        [6.8, 2.8, 4.8, 1.4],\n",
       "        [5.7, 2.9, 4.2, 1.3],\n",
       "        [5.6, 3. , 4.1, 1.3],\n",
       "        [7.4, 2.8, 6.1, 1.9],\n",
       "        [5.5, 2.6, 4.4, 1.2],\n",
       "        [5. , 3.2, 1.2, 0.2],\n",
       "        [6.9, 3.1, 5.4, 2.1],\n",
       "        [6.2, 2.9, 4.3, 1.3],\n",
       "        [5. , 3. , 1.6, 0.2],\n",
       "        [5.1, 2.5, 3. , 1.1],\n",
       "        [5.1, 3.8, 1.9, 0.4],\n",
       "        [6.4, 3.2, 4.5, 1.5],\n",
       "        [5. , 3.3, 1.4, 0.2],\n",
       "        [5.1, 3.7, 1.5, 0.4],\n",
       "        [6.3, 2.8, 5.1, 1.5],\n",
       "        [6.1, 2.8, 4. , 1.3],\n",
       "        [6.7, 3.1, 4.7, 1.5],\n",
       "        [5.2, 3.4, 1.4, 0.2],\n",
       "        [5.1, 3.8, 1.5, 0.3],\n",
       "        [6. , 2.2, 4. , 1. ],\n",
       "        [4.9, 3. , 1.4, 0.2],\n",
       "        [6.2, 2.2, 4.5, 1.5],\n",
       "        [6.3, 3.3, 4.7, 1.6],\n",
       "        [6.9, 3.1, 4.9, 1.5],\n",
       "        [7.9, 3.8, 6.4, 2. ],\n",
       "        [6.5, 3. , 5.8, 2.2],\n",
       "        [6.4, 2.7, 5.3, 1.9],\n",
       "        [6.3, 2.3, 4.4, 1.3],\n",
       "        [6.7, 3.1, 5.6, 2.4],\n",
       "        [6. , 2.9, 4.5, 1.5],\n",
       "        [4.9, 3.6, 1.4, 0.1],\n",
       "        [4.5, 2.3, 1.3, 0.3],\n",
       "        [6.9, 3.2, 5.7, 2.3],\n",
       "        [6.7, 3. , 5. , 1.7],\n",
       "        [6.5, 3.2, 5.1, 2. ],\n",
       "        [5.4, 3.9, 1.3, 0.4],\n",
       "        [5.3, 3.7, 1.5, 0.2],\n",
       "        [5.8, 4. , 1.2, 0.2],\n",
       "        [5.5, 2.4, 3.8, 1.1],\n",
       "        [5.5, 2.5, 4. , 1.3],\n",
       "        [4.9, 2.4, 3.3, 1. ],\n",
       "        [5. , 3.5, 1.6, 0.6],\n",
       "        [5.7, 3. , 4.2, 1.2],\n",
       "        [7.7, 3. , 6.1, 2.3],\n",
       "        [6.2, 2.8, 4.8, 1.8],\n",
       "        [7.2, 3. , 5.8, 1.6],\n",
       "        [5.6, 2.7, 4.2, 1.3],\n",
       "        [5. , 2.3, 3.3, 1. ],\n",
       "        [4.6, 3.2, 1.4, 0.2],\n",
       "        [5.4, 3.4, 1.7, 0.2],\n",
       "        [6.4, 3.1, 5.5, 1.8],\n",
       "        [5.6, 2.8, 4.9, 2. ],\n",
       "        [4.6, 3.4, 1.4, 0.3],\n",
       "        [7.7, 3.8, 6.7, 2.2],\n",
       "        [4.8, 3.1, 1.6, 0.2],\n",
       "        [5.6, 3. , 4.5, 1.5],\n",
       "        [5.8, 2.7, 5.1, 1.9],\n",
       "        [6.1, 2.8, 4.7, 1.2],\n",
       "        [7.3, 2.9, 6.3, 1.8],\n",
       "        [4.8, 3.4, 1.6, 0.2],\n",
       "        [5.7, 2.6, 3.5, 1. ],\n",
       "        [6.3, 2.5, 5. , 1.9],\n",
       "        [5.7, 2.8, 4.5, 1.3],\n",
       "        [7.7, 2.6, 6.9, 2.3],\n",
       "        [6.5, 2.8, 4.6, 1.5],\n",
       "        [6.3, 3.3, 6. , 2.5],\n",
       "        [5. , 2. , 3.5, 1. ],\n",
       "        [5.9, 3.2, 4.8, 1.8],\n",
       "        [5.6, 2.9, 3.6, 1.3],\n",
       "        [6.1, 3. , 4.6, 1.4],\n",
       "        [5.8, 2.7, 4.1, 1. ],\n",
       "        [5.8, 2.8, 5.1, 2.4],\n",
       "        [6.3, 2.9, 5.6, 1.8],\n",
       "        [5.8, 2.7, 3.9, 1.2],\n",
       "        [4.6, 3.6, 1. , 0.2],\n",
       "        [4.4, 3.2, 1.3, 0.2],\n",
       "        [5.4, 3.7, 1.5, 0.2],\n",
       "        [5.1, 3.3, 1.7, 0.5],\n",
       "        [6.3, 2.5, 4.9, 1.5],\n",
       "        [7.1, 3. , 5.9, 2.1],\n",
       "        [6. , 3.4, 4.5, 1.6],\n",
       "        [6.4, 2.8, 5.6, 2.1],\n",
       "        [6.5, 3. , 5.5, 1.8],\n",
       "        [5.5, 2.4, 3.7, 1. ],\n",
       "        [5.7, 2.5, 5. , 2. ],\n",
       "        [6.3, 2.7, 4.9, 1.8]]), array([[5.1, 3.5, 1.4, 0.3],\n",
       "        [6.5, 3. , 5.2, 2. ],\n",
       "        [5.2, 4.1, 1.5, 0.1],\n",
       "        [6.4, 3.2, 5.3, 2.3],\n",
       "        [5.6, 2.5, 3.9, 1.1],\n",
       "        [7.6, 3. , 6.6, 2.1],\n",
       "        [4.6, 3.1, 1.5, 0.2],\n",
       "        [6.8, 3.2, 5.9, 2.3],\n",
       "        [4.8, 3.4, 1.9, 0.2],\n",
       "        [6.7, 2.5, 5.8, 1.8],\n",
       "        [5. , 3.6, 1.4, 0.2],\n",
       "        [5.5, 4.2, 1.4, 0.2],\n",
       "        [6. , 2.2, 5. , 1.5],\n",
       "        [4.7, 3.2, 1.6, 0.2],\n",
       "        [4.8, 3. , 1.4, 0.1],\n",
       "        [6.4, 2.9, 4.3, 1.3],\n",
       "        [4.4, 2.9, 1.4, 0.2],\n",
       "        [5.1, 3.4, 1.5, 0.2],\n",
       "        [6.7, 3. , 5.2, 2.3],\n",
       "        [5.7, 3.8, 1.7, 0.3],\n",
       "        [5. , 3.4, 1.6, 0.4],\n",
       "        [6.8, 3. , 5.5, 2.1],\n",
       "        [6.1, 2.9, 4.7, 1.4],\n",
       "        [4.9, 3.1, 1.5, 0.2],\n",
       "        [6.2, 3.4, 5.4, 2.3],\n",
       "        [5.9, 3. , 4.2, 1.5],\n",
       "        [6.7, 3.3, 5.7, 2.5],\n",
       "        [5.1, 3.5, 1.4, 0.2],\n",
       "        [6.4, 2.8, 5.6, 2.2],\n",
       "        [5.5, 3.5, 1.3, 0.2],\n",
       "        [5. , 3.4, 1.5, 0.2],\n",
       "        [6.9, 3.1, 5.1, 2.3],\n",
       "        [4.3, 3. , 1.1, 0.1],\n",
       "        [6.1, 3. , 4.9, 1.8],\n",
       "        [6. , 3. , 4.8, 1.8],\n",
       "        [7.2, 3.6, 6.1, 2.5],\n",
       "        [4.9, 3.1, 1.5, 0.1],\n",
       "        [5. , 3.5, 1.3, 0.3]]), array([1, 2, 0, 0, 1, 2, 1, 0, 0, 2, 2, 2, 1, 0, 1, 1, 0, 2, 1, 0, 2, 1,\n",
       "        1, 2, 0, 1, 1, 1, 1, 2, 1, 0, 2, 1, 0, 1, 0, 1, 0, 0, 2, 1, 1, 0,\n",
       "        0, 1, 0, 1, 1, 1, 2, 2, 2, 1, 2, 1, 0, 0, 2, 1, 2, 0, 0, 0, 1, 1,\n",
       "        1, 0, 1, 2, 2, 2, 1, 1, 0, 0, 2, 2, 0, 2, 0, 1, 2, 1, 2, 0, 1, 2,\n",
       "        1, 2, 1, 2, 1, 1, 1, 1, 1, 2, 2, 1, 0, 0, 0, 0, 1, 2, 1, 2, 2, 1,\n",
       "        2, 2]), array([0, 2, 0, 2, 1, 2, 0, 2, 0, 2, 0, 0, 2, 0, 0, 1, 0, 0, 2, 0, 0, 2,\n",
       "        1, 0, 2, 1, 2, 0, 2, 0, 0, 2, 0, 2, 2, 2, 0, 0])]"
      ]
     },
     "execution_count": 6,
     "metadata": {},
     "output_type": "execute_result"
    }
   ],
   "source": [
    "from sklearn.model_selection import train_test_split\n",
    "train_test_split(X, y)"
   ]
  },
  {
   "cell_type": "code",
   "execution_count": 7,
   "metadata": {
    "slideshow": {
     "slide_type": "fragment"
    }
   },
   "outputs": [
    {
     "name": "stdout",
     "output_type": "stream",
     "text": [
      "[0 2 0 1 1 0 0 1 2 2 2 0 1 0 1 1 1 1 0 1 0 1 1 0 2 2 1 2 2 1 0 1 2 1 1 2 1\n",
      " 2 0 0 1 1 2 0 1 2 1 1 0 2 0 2 0 2 2 2 1 1 0 1 1 1 0 1 0 2 0 2 2 2 0 1 0 2\n",
      " 2 1 2 0 1 2 0 1 2 0 0 2 0 0 0 1 0 2 0 1 2 0 2 1 1 2 1 0 0 2 0 1 0 0 0 0 2\n",
      " 0]\n"
     ]
    }
   ],
   "source": [
    "# split the data into training data (2/3) for x and for y and test data (1/3) for x and for y\n",
    "# training data is for the model to learn, test data to see if the model learned correctly\n",
    "x_train, x_test, y_train, y_test = train_test_split(X, y)\n",
    "print(y_train)"
   ]
  },
  {
   "cell_type": "code",
   "execution_count": 8,
   "metadata": {
    "slideshow": {
     "slide_type": "subslide"
    }
   },
   "outputs": [
    {
     "data": {
      "text/plain": [
       "LinearRegression(copy_X=True, fit_intercept=True, n_jobs=None, normalize=False)"
      ]
     },
     "execution_count": 8,
     "metadata": {},
     "output_type": "execute_result"
    }
   ],
   "source": [
    "# use the linear regression model\n",
    "from sklearn.linear_model import LinearRegression\n",
    "model = LinearRegression()\n",
    "model.fit(x_train, y_train)"
   ]
  },
  {
   "cell_type": "code",
   "execution_count": 9,
   "metadata": {
    "slideshow": {
     "slide_type": "fragment"
    }
   },
   "outputs": [
    {
     "data": {
      "text/plain": [
       "array([-5.09203649e-02,  1.73872686e+00,  7.02235363e-03,  1.15141064e+00,\n",
       "        1.35947531e+00, -4.98495578e-02, -1.12150083e-02,  1.00542706e+00,\n",
       "        2.13858964e+00,  1.85130215e+00,  1.97666289e+00, -1.54734287e-02,\n",
       "        1.52797289e+00,  5.64339201e-02,  1.15929090e+00,  1.36034526e+00,\n",
       "        1.23891543e+00,  1.35464829e+00,  1.66855438e-02,  1.55589825e+00,\n",
       "       -3.86947655e-03,  1.14675577e+00,  8.59997760e-01,  2.61726899e-02,\n",
       "        1.86950946e+00,  2.02964031e+00,  1.20850162e+00,  1.90493683e+00,\n",
       "        1.99669480e+00,  1.19705550e+00, -1.79694377e-01,  1.20094999e+00,\n",
       "        1.83588847e+00,  1.26448536e+00,  1.20043872e+00,  1.71134942e+00,\n",
       "        1.20723521e+00,  2.18758129e+00,  6.94673646e-02, -2.76694411e-02,\n",
       "        1.18269441e+00,  9.34753597e-01,  1.44729576e+00, -3.33951250e-02,\n",
       "        1.29436310e+00,  2.03785580e+00,  1.23869637e+00,  1.07717132e+00,\n",
       "       -1.28919797e-01,  2.05717034e+00, -9.58991199e-03,  1.71134942e+00,\n",
       "        1.40489013e-01,  1.72225421e+00,  1.69903334e+00,  1.68361966e+00,\n",
       "        1.20060315e+00,  1.14713266e+00,  6.60488423e-02,  1.32923754e+00,\n",
       "        9.72335550e-01,  8.75721860e-01, -6.59505538e-02,  1.15784845e+00,\n",
       "       -1.13731776e-01,  1.89064882e+00, -1.16944197e-01,  1.71851756e+00,\n",
       "        2.02625050e+00,  1.55912888e+00, -1.28548149e-01,  1.10527273e+00,\n",
       "       -1.12800590e-01,  1.86540227e+00,  2.02658573e+00,  1.31959256e+00,\n",
       "        1.66986638e+00, -7.38126036e-02,  1.28882006e+00,  1.47591368e+00,\n",
       "       -2.53322228e-02,  1.28254008e+00,  1.59167246e+00,  1.80753907e-01,\n",
       "        9.89430125e-03,  2.09780051e+00, -1.40195121e-01, -1.90952694e-02,\n",
       "        1.02571834e-01,  1.01580237e+00,  3.29866260e-03,  1.56055312e+00,\n",
       "       -6.82877721e-02,  1.30972851e+00,  1.80262092e+00, -1.40439363e-02,\n",
       "        1.73157056e+00,  8.75009738e-01,  1.10542531e+00,  1.81421303e+00,\n",
       "        8.49805089e-01,  7.32417896e-02,  5.84547795e-04,  2.22228995e+00,\n",
       "       -8.81254221e-02,  1.16858245e+00, -7.86630842e-02,  3.54824433e-02,\n",
       "       -3.94742456e-02, -6.73747977e-02,  1.52222239e+00, -2.98292668e-02])"
      ]
     },
     "execution_count": 9,
     "metadata": {},
     "output_type": "execute_result"
    }
   ],
   "source": [
    "targets = model.predict(x_train)\n",
    "targets"
   ]
  },
  {
   "cell_type": "code",
   "execution_count": 10,
   "metadata": {
    "slideshow": {
     "slide_type": "subslide"
    }
   },
   "outputs": [
    {
     "data": {
      "text/plain": [
       "0.9332149878895715"
      ]
     },
     "execution_count": 10,
     "metadata": {},
     "output_type": "execute_result"
    }
   ],
   "source": [
    "model.score(x_train, y_train)"
   ]
  },
  {
   "cell_type": "code",
   "execution_count": 11,
   "metadata": {
    "slideshow": {
     "slide_type": "subslide"
    }
   },
   "outputs": [
    {
     "data": {
      "text/plain": [
       "0.9154465450719517"
      ]
     },
     "execution_count": 11,
     "metadata": {},
     "output_type": "execute_result"
    }
   ],
   "source": [
    "model.score(x_test, y_test)"
   ]
  },
  {
   "cell_type": "markdown",
   "metadata": {
    "slideshow": {
     "slide_type": "subslide"
    }
   },
   "source": [
    "## Evaluating a model\n",
    "\n",
    "* Models are supposed to be as accurate as possible\n",
    "  * `model.score`\n",
    "  * Read the [documentation](https://scikit-learn.org/stable/modules/generated/sklearn.linear_model.LinearRegression.html#sklearn.linear_model.LinearRegression.score)"
   ]
  },
  {
   "cell_type": "markdown",
   "metadata": {
    "slideshow": {
     "slide_type": "subslide"
    }
   },
   "source": [
    "* But not *too* accurate\n",
    "  * Overfitting"
   ]
  },
  {
   "cell_type": "markdown",
   "metadata": {
    "slideshow": {
     "slide_type": "subslide"
    }
   },
   "source": [
    "## The overfitting curve\n",
    "[Overfitting](https://en.wikipedia.org/wiki/Overfitting)  \n",
    "\n",
    "Curve shows number of training cycles on the x-axis and on y-axis how blue and red (training error, validation error) enlarges at a point. This point is where validation error has its global minimum\n",
    "\n",
    "<img src=\"https://upload.wikimedia.org/wikipedia/commons/thumb/1/1f/Overfitting_svg.svg/1280px-Overfitting_svg.svg.png\" style=\"width:40%\"/>"
   ]
  },
  {
   "cell_type": "markdown",
   "metadata": {
    "slideshow": {
     "slide_type": "subslide"
    }
   },
   "source": [
    "## Exercise\n",
    "\n",
    "* Import `science.csv` to a pandas DataFrame\n",
    "* Split the input (X) and target (y) using `train_test_split`\n",
    "* Train the model on the training data\n",
    "* Score the model based on the testing data"
   ]
  },
  {
   "cell_type": "markdown",
   "metadata": {
    "slideshow": {
     "slide_type": "subslide"
    }
   },
   "source": [
    "## Self study: Other sklearn metrics\n",
    "\n",
    "The model uses *default* metrics. But there are numerous others.\n",
    "\n",
    "https://sklearn.org/modules/classes.html#module-sklearn.metrics\n",
    "\n",
    "Metrics usually depends on the type of your model (classification, regression, etc.)\n",
    "\n",
    "Read this article [here](https://towardsdatascience.com/understanding-data-science-classification-metrics-in-scikit-learn-in-python-3bc336865019)"
   ]
  },
  {
   "cell_type": "code",
   "execution_count": 12,
   "metadata": {
    "slideshow": {
     "slide_type": "subslide"
    }
   },
   "outputs": [
    {
     "data": {
      "text/plain": [
       "dict_keys(['explained_variance', 'r2', 'max_error', 'neg_median_absolute_error', 'neg_mean_absolute_error', 'neg_mean_squared_error', 'neg_mean_squared_log_error', 'neg_root_mean_squared_error', 'neg_mean_poisson_deviance', 'neg_mean_gamma_deviance', 'accuracy', 'roc_auc', 'roc_auc_ovr', 'roc_auc_ovo', 'roc_auc_ovr_weighted', 'roc_auc_ovo_weighted', 'balanced_accuracy', 'average_precision', 'neg_log_loss', 'neg_brier_score', 'adjusted_rand_score', 'homogeneity_score', 'completeness_score', 'v_measure_score', 'mutual_info_score', 'adjusted_mutual_info_score', 'normalized_mutual_info_score', 'fowlkes_mallows_score', 'precision', 'precision_macro', 'precision_micro', 'precision_samples', 'precision_weighted', 'recall', 'recall_macro', 'recall_micro', 'recall_samples', 'recall_weighted', 'f1', 'f1_macro', 'f1_micro', 'f1_samples', 'f1_weighted', 'jaccard', 'jaccard_macro', 'jaccard_micro', 'jaccard_samples', 'jaccard_weighted'])"
      ]
     },
     "execution_count": 12,
     "metadata": {},
     "output_type": "execute_result"
    }
   ],
   "source": [
    "import sklearn\n",
    "sklearn.metrics.SCORERS.keys()"
   ]
  }
 ],
 "metadata": {
  "celltoolbar": "Slideshow",
  "kernelspec": {
   "display_name": "Python 3",
   "language": "python",
   "name": "python3"
  },
  "language_info": {
   "codemirror_mode": {
    "name": "ipython",
    "version": 3
   },
   "file_extension": ".py",
   "mimetype": "text/x-python",
   "name": "python",
   "nbconvert_exporter": "python",
   "pygments_lexer": "ipython3",
   "version": "3.7.6"
  },
  "varInspector": {
   "cols": {
    "lenName": 16,
    "lenType": 16,
    "lenVar": 40
   },
   "kernels_config": {
    "python": {
     "delete_cmd_postfix": "",
     "delete_cmd_prefix": "del ",
     "library": "var_list.py",
     "varRefreshCmd": "print(var_dic_list())"
    },
    "r": {
     "delete_cmd_postfix": ") ",
     "delete_cmd_prefix": "rm(",
     "library": "var_list.r",
     "varRefreshCmd": "cat(var_dic_list()) "
    }
   },
   "types_to_exclude": [
    "module",
    "function",
    "builtin_function_or_method",
    "instance",
    "_Feature"
   ],
   "window_display": false
  }
 },
 "nbformat": 4,
 "nbformat_minor": 2
}
