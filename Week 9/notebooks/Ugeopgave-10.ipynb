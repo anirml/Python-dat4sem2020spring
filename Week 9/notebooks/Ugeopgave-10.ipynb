{
 "cells": [
  {
   "cell_type": "markdown",
   "metadata": {},
   "source": [
    "## Exercise meanshift\n",
    "#### Exercise 1 understand the titanic data example\n",
    "Understand the Titanic clustering example\n",
    "1. Look at this [Notebook](https://github.com/datsoftlyngby/dat4sem2020spring-python/blob/master/notebooks/10-4-2%20Clustering%20Titanic%20eample.ipynb)\n",
    "2. Go through the code and make sure you understand everything\n",
    "\n",
    "#### Exercise 2 use meanshift on the iris dataset\n",
    "1. load 'iris_data.csv' into a dataframe\n",
    "2. get unique labels (Species column)\n",
    "3. plot with a scatter plot each iris flower sample colored by label (3 different colors)\n",
    "4. use: `MeanShift` and `estimate_bandwidth` from `sklearn.cluster` to first estimate bandwidth and then get the clusters (HINT: estimate_bandwidth() takes an argument: `quantile` set it to `0.2` for best result\n",
    "5. print out labels, cluster centers and number of clusters (as returned from the MeanShift function\n",
    "5. create a new scatter plot where each flower is colored according to cluster label\n",
    "6. add a dot for the cluster centers\n",
    "7. Compare the 2 plots (colored by actual labels vs. colored by cluster label)"
   ]
  }
 ],
 "metadata": {
  "kernelspec": {
   "display_name": "Python 3",
   "language": "python",
   "name": "python3"
  },
  "language_info": {
   "codemirror_mode": {
    "name": "ipython",
    "version": 3
   },
   "file_extension": ".py",
   "mimetype": "text/x-python",
   "name": "python",
   "nbconvert_exporter": "python",
   "pygments_lexer": "ipython3",
   "version": "3.7.6"
  }
 },
 "nbformat": 4,
 "nbformat_minor": 2
}
