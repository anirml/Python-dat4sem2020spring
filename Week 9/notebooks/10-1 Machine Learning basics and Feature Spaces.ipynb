{
 "cells": [
  {
   "cell_type": "markdown",
   "metadata": {},
   "source": [
    "# Machine learning intro\n",
    "Means a lot of things spanning various use cases and different types of algorithms:\n",
    "\n",
    "![](images/machine_learning_types_tree.png)\n",
    "\n",
    "- **Supervised vs unsupervised learning**\n",
    "  - **Supervised learning** is the common one: We have a known input and a known output and we train our model with data learning from the known output (the results). When the model is trained the purpose is to feed new data to the model and let it predict the output. (After training data comes test data to see if the model behaves)\n",
    "    - Classification: A classification problem is when the output variable is a category, such as “red” or “blue” or “disease” and “no disease”.\n",
    "    - Regression: A regression problem is when the output variable is a real value, such as “dollars” or “weight”.\n",
    "  - **Unsupervised learning** is where you only have input data (X) and no corresponding output variables. So it is about finding similarities in the input data and make categories. 2 main types: \n",
    "    - **Clustering:** A clustering problem is where you want to discover the inherent groupings in the data, such as grouping customers by purchasing behavior.\n",
    "    - **Association:**  An association rule learning problem is where you want to discover rules that describe large portions of your data, such as people that buy X also tend to buy Y.\n",
    "  - **Semi-Supervised Machine Learning** where you have a large amount of input data (X) and only some of the data is labeled (Y) are called semi-supervised learning problems. A good example is a photo archive where only some of the images are labeled, (e.g. dog, cat, person) and the majority are unlabeled. Many real world machine learning problems fall into this area. This is because it can be expensive or time-consuming to label data as it may require access to domain experts. Whereas unlabeled data is cheap and easy to collect and store. Unsupervised learning techniques can be used to discover and learn the structure in the input variables.  \n",
    "[Source](https://machinelearningmastery.com/supervised-and-unsupervised-machine-learning-algorithms/)\n"
   ]
  },
  {
   "cell_type": "markdown",
   "metadata": {},
   "source": [
    "## Machine learning lingo\n",
    "**Feature**: variable, column, attribute, field  \n",
    "**Instance**: row, observation, data point, value, case  \n",
    "**Target**: predictant, dependent variable, label  \n",
    "**Data**: predictor, set of predictor variables, input variables fed to the ml algorithm  \n",
    "\n",
    "**Model**: A machine learning model is an algorithm and a set of weights that can be trained on Data and Target  \n",
    "**Training set**: The data we use to train our model be multiple feedings and feedback mechanism  \n",
    "**Test set**: The data we use after training the model, to see if the model performs well on other data (not used for training)  \n"
   ]
  },
  {
   "cell_type": "markdown",
   "metadata": {
    "slideshow": {
     "slide_type": "slide"
    }
   },
   "source": [
    "## Machine learning concepts\n",
    "\n",
    "* Features\n",
    "* n-dimensional feature space\n",
    "* Modelling\n",
    "* Model correctness\n",
    "* Overfitting/underfitting\n",
    "* Training/testing data\n",
    "* Sklearn"
   ]
  },
  {
   "cell_type": "code",
   "execution_count": 1,
   "metadata": {
    "slideshow": {
     "slide_type": "subslide"
    }
   },
   "outputs": [
    {
     "name": "stdout",
     "output_type": "stream",
     "text": [
      "Populating the interactive namespace from numpy and matplotlib\n"
     ]
    }
   ],
   "source": [
    "%pylab inline"
   ]
  },
  {
   "cell_type": "markdown",
   "metadata": {},
   "source": [
    "# Feature spaces\n",
    "#### Feature = nummeric representation of raw data\n",
    "\n",
    "The Feature space (multidimensional coordinate system) is where our variables exists. This is used in machine learning as we have certain variables related to a target value:  \n",
    "E.g Testing car tires durability we might have target value = thickness of tires after test run and our variables as: X1 = duration of test run, X2 = distance travelled in test run, X3 = Amount of certain chemical in tires\n",
    "\n",
    "After many test runs we have an amount of features (test runs each with 3 variables) that we can use to start predicting correlation between the variables and the target value (tire thickness)\n",
    "\n",
    "|test run|duration|distance|amount of chemical x| **TARGET**: tire thickness |\n",
    "|--|--|--|--|--|\n",
    "|test 1| 4 min |20 km| 0.3g|2,3|\n",
    "|test 2| 5 min |40 km| 0.3g|2,1|\n",
    "|test 3| 3 min |20 km| 0.4g|2,2|\n",
    "...\n",
    "\n"
   ]
  },
  {
   "cell_type": "code",
   "execution_count": 1,
   "metadata": {
    "slideshow": {
     "slide_type": "subslide"
    }
   },
   "outputs": [
    {
     "name": "stdout",
     "output_type": "stream",
     "text": [
      "Populating the interactive namespace from numpy and matplotlib\n"
     ]
    }
   ],
   "source": [
    "%pylab inline\n",
    "import sklearn"
   ]
  },
  {
   "cell_type": "markdown",
   "metadata": {
    "slideshow": {
     "slide_type": "slide"
    }
   },
   "source": [
    "### scikit-learn\n",
    "For this notebook you need to have the `scikit-learn` (http://scikit-learn.org/stable/index.html) module installed, which is part of a normal Anaconda installation."
   ]
  },
  {
   "cell_type": "markdown",
   "metadata": {
    "slideshow": {
     "slide_type": "subslide"
    }
   },
   "source": [
    "## Feature Spaces\n",
    "\n",
    "#### One-dimensional Features Space \n",
    "Randomly generated data of shape (400,1)  \n",
    "make_blobs() takes a number of samples, a list of centers and a [standard deviation](https://www.mathsisfun.com/data/standard-deviation.html) and returns a n-dimensional sample collection based on the inputted centers. If the centers are one dimensional, then the sample data will be one-dimensional\n"
   ]
  },
  {
   "cell_type": "code",
   "execution_count": 1,
   "metadata": {
    "slideshow": {
     "slide_type": "subslide"
    }
   },
   "outputs": [
    {
     "name": "stdout",
     "output_type": "stream",
     "text": [
      "[[240.40230784]\n",
      " [ 67.17328893]]\n",
      "[[240]\n",
      " [ 67]]\n",
      "shape data (400, 1) [[0.]\n",
      " [0.]\n",
      " [0.]\n",
      " [0.]\n",
      " [0.]]\n"
     ]
    },
    {
     "data": {
      "text/plain": [
       "<Figure size 640x480 with 1 Axes>"
      ]
     },
     "metadata": {},
     "output_type": "display_data"
    }
   ],
   "source": [
    "import matplotlib.pyplot as plt\n",
    "import numpy as np\n",
    "from sklearn.datasets import make_blobs\n",
    "\n",
    "\n",
    "centers = [[60], [120], [170], [240]]\n",
    "# create an array of 400 arrays containing one value each, that is set close to one of the 4 centers\n",
    "data, _ = make_blobs(n_samples=400, cluster_std=4, centers=centers)\n",
    "print(data[0:2])\n",
    "data_1d = np.rint(data).astype(np.uint8) # round to nearest integer (400 values)\n",
    "print(data_1d[0:2])\n",
    "print('shape data',np.shape(data),np.zeros(np.shape(data))[0:5]) # x = clustered values, y = 0\n",
    "\n",
    "plt.xlim(0, 255)\n",
    "plt.ylim(-0.3, 0.3)\n",
    "\n",
    "y = np.zeros(np.shape(data))\n",
    "plt.plot(data_1d , y, 'b|', ms=50) # plot rounded x values and y = 0\n",
    "plt.axis('off') # turn off axis lines and labels\n",
    "plt.show()"
   ]
  },
  {
   "cell_type": "markdown",
   "metadata": {
    "slideshow": {
     "slide_type": "subslide"
    }
   },
   "source": [
    "## Two-dimensional Features Space \n",
    "Randomly generated data of shape (2500,2)"
   ]
  },
  {
   "cell_type": "code",
   "execution_count": 2,
   "metadata": {
    "scrolled": true,
    "slideshow": {
     "slide_type": "subslide"
    }
   },
   "outputs": [
    {
     "name": "stdout",
     "output_type": "stream",
     "text": [
      "[[ 0.81087858 -1.01228316]\n",
      " [ 1.86784949  0.95179756]\n",
      " [ 1.04481676 -0.92285234]\n",
      " ...\n",
      " [ 1.073341   -0.87874632]\n",
      " [ 0.1622605   0.25630953]\n",
      " [ 0.9960409  -0.96889722]]\n",
      "(2500, 2)\n"
     ]
    },
    {
     "data": {
      "text/plain": [
       "Text(0.5, 1.0, 'Estimated number of clusters:')"
      ]
     },
     "execution_count": 2,
     "metadata": {},
     "output_type": "execute_result"
    },
    {
     "data": {
      "image/png": "[encoded data removed]",
      "text/plain": [
       "<Figure size 432x288 with 1 Axes>"
      ]
     },
     "metadata": {
      "needs_background": "light"
     },
     "output_type": "display_data"
    }
   ],
   "source": [
    "import matplotlib.pyplot as plt\n",
    "from sklearn.datasets import make_blobs\n",
    "\n",
    "centers = [[2, 1], [0, 0], [1, -1]] # centers are now 2-d\n",
    "data_2d, _ = make_blobs(n_samples=2500, centers=centers, cluster_std=0.1)\n",
    "print(data_2d)\n",
    "print(np.shape(data_2d))\n",
    "plt.plot(data_2d[:,0], data_2d[:,1], 'b.')\n",
    "\n",
    "plt.title('Clusters based around the center values:')\n",
    "#plt.show()"
   ]
  },
  {
   "cell_type": "markdown",
   "metadata": {
    "slideshow": {
     "slide_type": "subslide"
    }
   },
   "source": [
    "## Three-dimensional Features Space "
   ]
  },
  {
   "cell_type": "code",
   "execution_count": 5,
   "metadata": {
    "slideshow": {
     "slide_type": "subslide"
    }
   },
   "outputs": [
    {
     "data": {
      "application/javascript": [
       "/* Put everything inside the global mpl namespace */\n",
       "window.mpl = {};\n",
       "\n",
       "\n",
       "mpl.get_websocket_type = function() {\n",
       "    if (typeof(WebSocket) !== 'undefined') {\n",
       "        return WebSocket;\n",
       "    } else if (typeof(MozWebSocket) !== 'undefined') {\n",
       "        return MozWebSocket;\n",
       "    } else {\n",
       "        alert('Your browser does not have WebSocket support. ' +\n",
       "              'Please try Chrome, Safari or Firefox ≥ 6. ' +\n",
       "              'Firefox 4 and 5 are also supported but you ' +\n",
       "              'have to enable WebSockets in about:config.');\n",
       "    };\n",
       "}\n",
       "\n",
       "mpl.figure = function(figure_id, websocket, ondownload, parent_element) {\n",
       "    this.id = figure_id;\n",
       "\n",
       "    this.ws = websocket;\n",
       "\n",
       "    this.supports_binary = (this.ws.binaryType != undefined);\n",
       "\n",
       "    if (!this.supports_binary) {\n",
       "        var warnings = document.getElementById(\"mpl-warnings\");\n",
       "        if (warnings) {\n",
       "            warnings.style.display = 'block';\n",
       "            warnings.textContent = (\n",
       "                \"This browser does not support binary websocket messages. \" +\n",
       "                    \"Performance may be slow.\");\n",
       "        }\n",
       "    }\n",
       "\n",
       "    this.imageObj = new Image();\n",
       "\n",
       "    this.context = undefined;\n",
       "    this.message = undefined;\n",
       "    this.canvas = undefined;\n",
       "    this.rubberband_canvas = undefined;\n",
       "    this.rubberband_context = undefined;\n",
       "    this.format_dropdown = undefined;\n",
       "\n",
       "    this.image_mode = 'full';\n",
       "\n",
       "    this.root = $('<div/>');\n",
       "    this._root_extra_style(this.root)\n",
       "    this.root.attr('style', 'display: inline-block');\n",
       "\n",
       "    $(parent_element).append(this.root);\n",
       "\n",
       "    this._init_header(this);\n",
       "    this._init_canvas(this);\n",
       "    this._init_toolbar(this);\n",
       "\n",
       "    var fig = this;\n",
       "\n",
       "    this.waiting = false;\n",
       "\n",
       "    this.ws.onopen =  function () {\n",
       "            fig.send_message(\"supports_binary\", {value: fig.supports_binary});\n",
       "            fig.send_message(\"send_image_mode\", {});\n",
       "            if (mpl.ratio != 1) {\n",
       "                fig.send_message(\"set_dpi_ratio\", {'dpi_ratio': mpl.ratio});\n",
       "            }\n",
       "            fig.send_message(\"refresh\", {});\n",
       "        }\n",
       "\n",
       "    this.imageObj.onload = function() {\n",
       "            if (fig.image_mode == 'full') {\n",
       "                // Full images could contain transparency (where diff images\n",
       "                // almost always do), so we need to clear the canvas so that\n",
       "                // there is no ghosting.\n",
       "                fig.context.clearRect(0, 0, fig.canvas.width, fig.canvas.height);\n",
       "            }\n",
       "            fig.context.drawImage(fig.imageObj, 0, 0);\n",
       "        };\n",
       "\n",
       "    this.imageObj.onunload = function() {\n",
       "        fig.ws.close();\n",
       "    }\n",
       "\n",
       "    this.ws.onmessage = this._make_on_message_function(this);\n",
       "\n",
       "    this.ondownload = ondownload;\n",
       "}\n",
       "\n",
       "mpl.figure.prototype._init_header = function() {\n",
       "    var titlebar = $(\n",
       "        '<div class=\"ui-dialog-titlebar ui-widget-header ui-corner-all ' +\n",
       "        'ui-helper-clearfix\"/>');\n",
       "    var titletext = $(\n",
       "        '<div class=\"ui-dialog-title\" style=\"width: 100%; ' +\n",
       "        'text-align: center; padding: 3px;\"/>');\n",
       "    titlebar.append(titletext)\n",
       "    this.root.append(titlebar);\n",
       "    this.header = titletext[0];\n",
       "}\n",
       "\n",
       "\n",
       "\n",
       "mpl.figure.prototype._canvas_extra_style = function(canvas_div) {\n",
       "\n",
       "}\n",
       "\n",
       "\n",
       "mpl.figure.prototype._root_extra_style = function(canvas_div) {\n",
       "\n",
       "}\n",
       "\n",
       "mpl.figure.prototype._init_canvas = function() {\n",
       "    var fig = this;\n",
       "\n",
       "    var canvas_div = $('<div/>');\n",
       "\n",
       "    canvas_div.attr('style', 'position: relative; clear: both; outline: 0');\n",
       "\n",
       "    function canvas_keyboard_event(event) {\n",
       "        return fig.key_event(event, event['data']);\n",
       "    }\n",
       "\n",
       "    canvas_div.keydown('key_press', canvas_keyboard_event);\n",
       "    canvas_div.keyup('key_release', canvas_keyboard_event);\n",
       "    this.canvas_div = canvas_div\n",
       "    this._canvas_extra_style(canvas_div)\n",
       "    this.root.append(canvas_div);\n",
       "\n",
       "    var canvas = $('<canvas/>');\n",
       "    canvas.addClass('mpl-canvas');\n",
       "    canvas.attr('style', \"left: 0; top: 0; z-index: 0; outline: 0\")\n",
       "\n",
       "    this.canvas = canvas[0];\n",
       "    this.context = canvas[0].getContext(\"2d\");\n",
       "\n",
       "    var backingStore = this.context.backingStorePixelRatio ||\n",
       "\tthis.context.webkitBackingStorePixelRatio ||\n",
       "\tthis.context.mozBackingStorePixelRatio ||\n",
       "\tthis.context.msBackingStorePixelRatio ||\n",
       "\tthis.context.oBackingStorePixelRatio ||\n",
       "\tthis.context.backingStorePixelRatio || 1;\n",
       "\n",
       "    mpl.ratio = (window.devicePixelRatio || 1) / backingStore;\n",
       "\n",
       "    var rubberband = $('<canvas/>');\n",
       "    rubberband.attr('style', \"position: absolute; left: 0; top: 0; z-index: 1;\")\n",
       "\n",
       "    var pass_mouse_events = true;\n",
       "\n",
       "    canvas_div.resizable({\n",
       "        start: function(event, ui) {\n",
       "            pass_mouse_events = false;\n",
       "        },\n",
       "        resize: function(event, ui) {\n",
       "            fig.request_resize(ui.size.width, ui.size.height);\n",
       "        },\n",
       "        stop: function(event, ui) {\n",
       "            pass_mouse_events = true;\n",
       "            fig.request_resize(ui.size.width, ui.size.height);\n",
       "        },\n",
       "    });\n",
       "\n",
       "    function mouse_event_fn(event) {\n",
       "        if (pass_mouse_events)\n",
       "            return fig.mouse_event(event, event['data']);\n",
       "    }\n",
       "\n",
       "    rubberband.mousedown('button_press', mouse_event_fn);\n",
       "    rubberband.mouseup('button_release', mouse_event_fn);\n",
       "    // Throttle sequential mouse events to 1 every 20ms.\n",
       "    rubberband.mousemove('motion_notify', mouse_event_fn);\n",
       "\n",
       "    rubberband.mouseenter('figure_enter', mouse_event_fn);\n",
       "    rubberband.mouseleave('figure_leave', mouse_event_fn);\n",
       "\n",
       "    canvas_div.on(\"wheel\", function (event) {\n",
       "        event = event.originalEvent;\n",
       "        event['data'] = 'scroll'\n",
       "        if (event.deltaY < 0) {\n",
       "            event.step = 1;\n",
       "        } else {\n",
       "            event.step = -1;\n",
       "        }\n",
       "        mouse_event_fn(event);\n",
       "    });\n",
       "\n",
       "    canvas_div.append(canvas);\n",
       "    canvas_div.append(rubberband);\n",
       "\n",
       "    this.rubberband = rubberband;\n",
       "    this.rubberband_canvas = rubberband[0];\n",
       "    this.rubberband_context = rubberband[0].getContext(\"2d\");\n",
       "    this.rubberband_context.strokeStyle = \"#000000\";\n",
       "\n",
       "    this._resize_canvas = function(width, height) {\n",
       "        // Keep the size of the canvas, canvas container, and rubber band\n",
       "        // canvas in synch.\n",
       "        canvas_div.css('width', width)\n",
       "        canvas_div.css('height', height)\n",
       "\n",
       "        canvas.attr('width', width * mpl.ratio);\n",
       "        canvas.attr('height', height * mpl.ratio);\n",
       "        canvas.attr('style', 'width: ' + width + 'px; height: ' + height + 'px;');\n",
       "\n",
       "        rubberband.attr('width', width);\n",
       "        rubberband.attr('height', height);\n",
       "    }\n",
       "\n",
       "    // Set the figure to an initial 600x600px, this will subsequently be updated\n",
       "    // upon first draw.\n",
       "    this._resize_canvas(600, 600);\n",
       "\n",
       "    // Disable right mouse context menu.\n",
       "    $(this.rubberband_canvas).bind(\"contextmenu\",function(e){\n",
       "        return false;\n",
       "    });\n",
       "\n",
       "    function set_focus () {\n",
       "        canvas.focus();\n",
       "        canvas_div.focus();\n",
       "    }\n",
       "\n",
       "    window.setTimeout(set_focus, 100);\n",
       "}\n",
       "\n",
       "mpl.figure.prototype._init_toolbar = function() {\n",
       "    var fig = this;\n",
       "\n",
       "    var nav_element = $('<div/>');\n",
       "    nav_element.attr('style', 'width: 100%');\n",
       "    this.root.append(nav_element);\n",
       "\n",
       "    // Define a callback function for later on.\n",
       "    function toolbar_event(event) {\n",
       "        return fig.toolbar_button_onclick(event['data']);\n",
       "    }\n",
       "    function toolbar_mouse_event(event) {\n",
       "        return fig.toolbar_button_onmouseover(event['data']);\n",
       "    }\n",
       "\n",
       "    for(var toolbar_ind in mpl.toolbar_items) {\n",
       "        var name = mpl.toolbar_items[toolbar_ind][0];\n",
       "        var tooltip = mpl.toolbar_items[toolbar_ind][1];\n",
       "        var image = mpl.toolbar_items[toolbar_ind][2];\n",
       "        var method_name = mpl.toolbar_items[toolbar_ind][3];\n",
       "\n",
       "        if (!name) {\n",
       "            // put a spacer in here.\n",
       "            continue;\n",
       "        }\n",
       "        var button = $('<button/>');\n",
       "        button.addClass('ui-button ui-widget ui-state-default ui-corner-all ' +\n",
       "                        'ui-button-icon-only');\n",
       "        button.attr('role', 'button');\n",
       "        button.attr('aria-disabled', 'false');\n",
       "        button.click(method_name, toolbar_event);\n",
       "        button.mouseover(tooltip, toolbar_mouse_event);\n",
       "\n",
       "        var icon_img = $('<span/>');\n",
       "        icon_img.addClass('ui-button-icon-primary ui-icon');\n",
       "        icon_img.addClass(image);\n",
       "        icon_img.addClass('ui-corner-all');\n",
       "\n",
       "        var tooltip_span = $('<span/>');\n",
       "        tooltip_span.addClass('ui-button-text');\n",
       "        tooltip_span.html(tooltip);\n",
       "\n",
       "        button.append(icon_img);\n",
       "        button.append(tooltip_span);\n",
       "\n",
       "        nav_element.append(button);\n",
       "    }\n",
       "\n",
       "    var fmt_picker_span = $('<span/>');\n",
       "\n",
       "    var fmt_picker = $('<select/>');\n",
       "    fmt_picker.addClass('mpl-toolbar-option ui-widget ui-widget-content');\n",
       "    fmt_picker_span.append(fmt_picker);\n",
       "    nav_element.append(fmt_picker_span);\n",
       "    this.format_dropdown = fmt_picker[0];\n",
       "\n",
       "    for (var ind in mpl.extensions) {\n",
       "        var fmt = mpl.extensions[ind];\n",
       "        var option = $(\n",
       "            '<option/>', {selected: fmt === mpl.default_extension}).html(fmt);\n",
       "        fmt_picker.append(option);\n",
       "    }\n",
       "\n",
       "    // Add hover states to the ui-buttons\n",
       "    $( \".ui-button\" ).hover(\n",
       "        function() { $(this).addClass(\"ui-state-hover\");},\n",
       "        function() { $(this).removeClass(\"ui-state-hover\");}\n",
       "    );\n",
       "\n",
       "    var status_bar = $('<span class=\"mpl-message\"/>');\n",
       "    nav_element.append(status_bar);\n",
       "    this.message = status_bar[0];\n",
       "}\n",
       "\n",
       "mpl.figure.prototype.request_resize = function(x_pixels, y_pixels) {\n",
       "    // Request matplotlib to resize the figure. Matplotlib will then trigger a resize in the client,\n",
       "    // which will in turn request a refresh of the image.\n",
       "    this.send_message('resize', {'width': x_pixels, 'height': y_pixels});\n",
       "}\n",
       "\n",
       "mpl.figure.prototype.send_message = function(type, properties) {\n",
       "    properties['type'] = type;\n",
       "    properties['figure_id'] = this.id;\n",
       "    this.ws.send(JSON.stringify(properties));\n",
       "}\n",
       "\n",
       "mpl.figure.prototype.send_draw_message = function() {\n",
       "    if (!this.waiting) {\n",
       "        this.waiting = true;\n",
       "        this.ws.send(JSON.stringify({type: \"draw\", figure_id: this.id}));\n",
       "    }\n",
       "}\n",
       "\n",
       "\n",
       "mpl.figure.prototype.handle_save = function(fig, msg) {\n",
       "    var format_dropdown = fig.format_dropdown;\n",
       "    var format = format_dropdown.options[format_dropdown.selectedIndex].value;\n",
       "    fig.ondownload(fig, format);\n",
       "}\n",
       "\n",
       "\n",
       "mpl.figure.prototype.handle_resize = function(fig, msg) {\n",
       "    var size = msg['size'];\n",
       "    if (size[0] != fig.canvas.width || size[1] != fig.canvas.height) {\n",
       "        fig._resize_canvas(size[0], size[1]);\n",
       "        fig.send_message(\"refresh\", {});\n",
       "    };\n",
       "}\n",
       "\n",
       "mpl.figure.prototype.handle_rubberband = function(fig, msg) {\n",
       "    var x0 = msg['x0'] / mpl.ratio;\n",
       "    var y0 = (fig.canvas.height - msg['y0']) / mpl.ratio;\n",
       "    var x1 = msg['x1'] / mpl.ratio;\n",
       "    var y1 = (fig.canvas.height - msg['y1']) / mpl.ratio;\n",
       "    x0 = Math.floor(x0) + 0.5;\n",
       "    y0 = Math.floor(y0) + 0.5;\n",
       "    x1 = Math.floor(x1) + 0.5;\n",
       "    y1 = Math.floor(y1) + 0.5;\n",
       "    var min_x = Math.min(x0, x1);\n",
       "    var min_y = Math.min(y0, y1);\n",
       "    var width = Math.abs(x1 - x0);\n",
       "    var height = Math.abs(y1 - y0);\n",
       "\n",
       "    fig.rubberband_context.clearRect(\n",
       "        0, 0, fig.canvas.width / mpl.ratio, fig.canvas.height / mpl.ratio);\n",
       "\n",
       "    fig.rubberband_context.strokeRect(min_x, min_y, width, height);\n",
       "}\n",
       "\n",
       "mpl.figure.prototype.handle_figure_label = function(fig, msg) {\n",
       "    // Updates the figure title.\n",
       "    fig.header.textContent = msg['label'];\n",
       "}\n",
       "\n",
       "mpl.figure.prototype.handle_cursor = function(fig, msg) {\n",
       "    var cursor = msg['cursor'];\n",
       "    switch(cursor)\n",
       "    {\n",
       "    case 0:\n",
       "        cursor = 'pointer';\n",
       "        break;\n",
       "    case 1:\n",
       "        cursor = 'default';\n",
       "        break;\n",
       "    case 2:\n",
       "        cursor = 'crosshair';\n",
       "        break;\n",
       "    case 3:\n",
       "        cursor = 'move';\n",
       "        break;\n",
       "    }\n",
       "    fig.rubberband_canvas.style.cursor = cursor;\n",
       "}\n",
       "\n",
       "mpl.figure.prototype.handle_message = function(fig, msg) {\n",
       "    fig.message.textContent = msg['message'];\n",
       "}\n",
       "\n",
       "mpl.figure.prototype.handle_draw = function(fig, msg) {\n",
       "    // Request the server to send over a new figure.\n",
       "    fig.send_draw_message();\n",
       "}\n",
       "\n",
       "mpl.figure.prototype.handle_image_mode = function(fig, msg) {\n",
       "    fig.image_mode = msg['mode'];\n",
       "}\n",
       "\n",
       "mpl.figure.prototype.updated_canvas_event = function() {\n",
       "    // Called whenever the canvas gets updated.\n",
       "    this.send_message(\"ack\", {});\n",
       "}\n",
       "\n",
       "// A function to construct a web socket function for onmessage handling.\n",
       "// Called in the figure constructor.\n",
       "mpl.figure.prototype._make_on_message_function = function(fig) {\n",
       "    return function socket_on_message(evt) {\n",
       "        if (evt.data instanceof Blob) {\n",
       "            /* FIXME: We get \"Resource interpreted as Image but\n",
       "             * transferred with MIME type text/plain:\" errors on\n",
       "             * Chrome.  But how to set the MIME type?  It doesn't seem\n",
       "             * to be part of the websocket stream */\n",
       "            evt.data.type = \"image/png\";\n",
       "\n",
       "            /* Free the memory for the previous frames */\n",
       "            if (fig.imageObj.src) {\n",
       "                (window.URL || window.webkitURL).revokeObjectURL(\n",
       "                    fig.imageObj.src);\n",
       "            }\n",
       "\n",
       "            fig.imageObj.src = (window.URL || window.webkitURL).createObjectURL(\n",
       "                evt.data);\n",
       "            fig.updated_canvas_event();\n",
       "            fig.waiting = false;\n",
       "            return;\n",
       "        }\n",
       "        else if (typeof evt.data === 'string' && evt.data.slice(0, 21) == \"data:image/png;base64\") {\n",
       "            fig.imageObj.src = evt.data;\n",
       "            fig.updated_canvas_event();\n",
       "            fig.waiting = false;\n",
       "            return;\n",
       "        }\n",
       "\n",
       "        var msg = JSON.parse(evt.data);\n",
       "        var msg_type = msg['type'];\n",
       "\n",
       "        // Call the  \"handle_{type}\" callback, which takes\n",
       "        // the figure and JSON message as its only arguments.\n",
       "        try {\n",
       "            var callback = fig[\"handle_\" + msg_type];\n",
       "        } catch (e) {\n",
       "            console.log(\"No handler for the '\" + msg_type + \"' message type: \", msg);\n",
       "            return;\n",
       "        }\n",
       "\n",
       "        if (callback) {\n",
       "            try {\n",
       "                // console.log(\"Handling '\" + msg_type + \"' message: \", msg);\n",
       "                callback(fig, msg);\n",
       "            } catch (e) {\n",
       "                console.log(\"Exception inside the 'handler_\" + msg_type + \"' callback:\", e, e.stack, msg);\n",
       "            }\n",
       "        }\n",
       "    };\n",
       "}\n",
       "\n",
       "// from http://stackoverflow.com/questions/1114465/getting-mouse-location-in-canvas\n",
       "mpl.findpos = function(e) {\n",
       "    //this section is from http://www.quirksmode.org/js/events_properties.html\n",
       "    var targ;\n",
       "    if (!e)\n",
       "        e = window.event;\n",
       "    if (e.target)\n",
       "        targ = e.target;\n",
       "    else if (e.srcElement)\n",
       "        targ = e.srcElement;\n",
       "    if (targ.nodeType == 3) // defeat Safari bug\n",
       "        targ = targ.parentNode;\n",
       "\n",
       "    // jQuery normalizes the pageX and pageY\n",
       "    // pageX,Y are the mouse positions relative to the document\n",
       "    // offset() returns the position of the element relative to the document\n",
       "    var x = e.pageX - $(targ).offset().left;\n",
       "    var y = e.pageY - $(targ).offset().top;\n",
       "\n",
       "    return {\"x\": x, \"y\": y};\n",
       "};\n",
       "\n",
       "/*\n",
       " * return a copy of an object with only non-object keys\n",
       " * we need this to avoid circular references\n",
       " * http://stackoverflow.com/a/24161582/3208463\n",
       " */\n",
       "function simpleKeys (original) {\n",
       "  return Object.keys(original).reduce(function (obj, key) {\n",
       "    if (typeof original[key] !== 'object')\n",
       "        obj[key] = original[key]\n",
       "    return obj;\n",
       "  }, {});\n",
       "}\n",
       "\n",
       "mpl.figure.prototype.mouse_event = function(event, name) {\n",
       "    var canvas_pos = mpl.findpos(event)\n",
       "\n",
       "    if (name === 'button_press')\n",
       "    {\n",
       "        this.canvas.focus();\n",
       "        this.canvas_div.focus();\n",
       "    }\n",
       "\n",
       "    var x = canvas_pos.x * mpl.ratio;\n",
       "    var y = canvas_pos.y * mpl.ratio;\n",
       "\n",
       "    this.send_message(name, {x: x, y: y, button: event.button,\n",
       "                             step: event.step,\n",
       "                             guiEvent: simpleKeys(event)});\n",
       "\n",
       "    /* This prevents the web browser from automatically changing to\n",
       "     * the text insertion cursor when the button is pressed.  We want\n",
       "     * to control all of the cursor setting manually through the\n",
       "     * 'cursor' event from matplotlib */\n",
       "    event.preventDefault();\n",
       "    return false;\n",
       "}\n",
       "\n",
       "mpl.figure.prototype._key_event_extra = function(event, name) {\n",
       "    // Handle any extra behaviour associated with a key event\n",
       "}\n",
       "\n",
       "mpl.figure.prototype.key_event = function(event, name) {\n",
       "\n",
       "    // Prevent repeat events\n",
       "    if (name == 'key_press')\n",
       "    {\n",
       "        if (event.which === this._key)\n",
       "            return;\n",
       "        else\n",
       "            this._key = event.which;\n",
       "    }\n",
       "    if (name == 'key_release')\n",
       "        this._key = null;\n",
       "\n",
       "    var value = '';\n",
       "    if (event.ctrlKey && event.which != 17)\n",
       "        value += \"ctrl+\";\n",
       "    if (event.altKey && event.which != 18)\n",
       "        value += \"alt+\";\n",
       "    if (event.shiftKey && event.which != 16)\n",
       "        value += \"shift+\";\n",
       "\n",
       "    value += 'k';\n",
       "    value += event.which.toString();\n",
       "\n",
       "    this._key_event_extra(event, name);\n",
       "\n",
       "    this.send_message(name, {key: value,\n",
       "                             guiEvent: simpleKeys(event)});\n",
       "    return false;\n",
       "}\n",
       "\n",
       "mpl.figure.prototype.toolbar_button_onclick = function(name) {\n",
       "    if (name == 'download') {\n",
       "        this.handle_save(this, null);\n",
       "    } else {\n",
       "        this.send_message(\"toolbar_button\", {name: name});\n",
       "    }\n",
       "};\n",
       "\n",
       "mpl.figure.prototype.toolbar_button_onmouseover = function(tooltip) {\n",
       "    this.message.textContent = tooltip;\n",
       "};\n",
       "mpl.toolbar_items = [[\"Home\", \"Reset original view\", \"fa fa-home icon-home\", \"home\"], [\"Back\", \"Back to previous view\", \"fa fa-arrow-left icon-arrow-left\", \"back\"], [\"Forward\", \"Forward to next view\", \"fa fa-arrow-right icon-arrow-right\", \"forward\"], [\"\", \"\", \"\", \"\"], [\"Pan\", \"Pan axes with left mouse, zoom with right\", \"fa fa-arrows icon-move\", \"pan\"], [\"Zoom\", \"Zoom to rectangle\", \"fa fa-square-o icon-check-empty\", \"zoom\"], [\"\", \"\", \"\", \"\"], [\"Download\", \"Download plot\", \"fa fa-floppy-o icon-save\", \"download\"]];\n",
       "\n",
       "mpl.extensions = [\"eps\", \"jpeg\", \"pdf\", \"png\", \"ps\", \"raw\", \"svg\", \"tif\"];\n",
       "\n",
       "mpl.default_extension = \"png\";var comm_websocket_adapter = function(comm) {\n",
       "    // Create a \"websocket\"-like object which calls the given IPython comm\n",
       "    // object with the appropriate methods. Currently this is a non binary\n",
       "    // socket, so there is still some room for performance tuning.\n",
       "    var ws = {};\n",
       "\n",
       "    ws.close = function() {\n",
       "        comm.close()\n",
       "    };\n",
       "    ws.send = function(m) {\n",
       "        //console.log('sending', m);\n",
       "        comm.send(m);\n",
       "    };\n",
       "    // Register the callback with on_msg.\n",
       "    comm.on_msg(function(msg) {\n",
       "        //console.log('receiving', msg['content']['data'], msg);\n",
       "        // Pass the mpl event to the overridden (by mpl) onmessage function.\n",
       "        ws.onmessage(msg['content']['data'])\n",
       "    });\n",
       "    return ws;\n",
       "}\n",
       "\n",
       "mpl.mpl_figure_comm = function(comm, msg) {\n",
       "    // This is the function which gets called when the mpl process\n",
       "    // starts-up an IPython Comm through the \"matplotlib\" channel.\n",
       "\n",
       "    var id = msg.content.data.id;\n",
       "    // Get hold of the div created by the display call when the Comm\n",
       "    // socket was opened in Python.\n",
       "    var element = $(\"#\" + id);\n",
       "    var ws_proxy = comm_websocket_adapter(comm)\n",
       "\n",
       "    function ondownload(figure, format) {\n",
       "        window.open(figure.imageObj.src);\n",
       "    }\n",
       "\n",
       "    var fig = new mpl.figure(id, ws_proxy,\n",
       "                           ondownload,\n",
       "                           element.get(0));\n",
       "\n",
       "    // Call onopen now - mpl needs it, as it is assuming we've passed it a real\n",
       "    // web socket which is closed, not our websocket->open comm proxy.\n",
       "    ws_proxy.onopen();\n",
       "\n",
       "    fig.parent_element = element.get(0);\n",
       "    fig.cell_info = mpl.find_output_cell(\"<div id='\" + id + \"'></div>\");\n",
       "    if (!fig.cell_info) {\n",
       "        console.error(\"Failed to find cell for figure\", id, fig);\n",
       "        return;\n",
       "    }\n",
       "\n",
       "    var output_index = fig.cell_info[2]\n",
       "    var cell = fig.cell_info[0];\n",
       "\n",
       "};\n",
       "\n",
       "mpl.figure.prototype.handle_close = function(fig, msg) {\n",
       "    var width = fig.canvas.width/mpl.ratio\n",
       "    fig.root.unbind('remove')\n",
       "\n",
       "    // Update the output cell to use the data from the current canvas.\n",
       "    fig.push_to_output();\n",
       "    var dataURL = fig.canvas.toDataURL();\n",
       "    // Re-enable the keyboard manager in IPython - without this line, in FF,\n",
       "    // the notebook keyboard shortcuts fail.\n",
       "    IPython.keyboard_manager.enable()\n",
       "    $(fig.parent_element).html('<img src=\"' + dataURL + '\" width=\"' + width + '\">');\n",
       "    fig.close_ws(fig, msg);\n",
       "}\n",
       "\n",
       "mpl.figure.prototype.close_ws = function(fig, msg){\n",
       "    fig.send_message('closing', msg);\n",
       "    // fig.ws.close()\n",
       "}\n",
       "\n",
       "mpl.figure.prototype.push_to_output = function(remove_interactive) {\n",
       "    // Turn the data on the canvas into data in the output cell.\n",
       "    var width = this.canvas.width/mpl.ratio\n",
       "    var dataURL = this.canvas.toDataURL();\n",
       "    this.cell_info[1]['text/html'] = '<img src=\"' + dataURL + '\" width=\"' + width + '\">';\n",
       "}\n",
       "\n",
       "mpl.figure.prototype.updated_canvas_event = function() {\n",
       "    // Tell IPython that the notebook contents must change.\n",
       "    IPython.notebook.set_dirty(true);\n",
       "    this.send_message(\"ack\", {});\n",
       "    var fig = this;\n",
       "    // Wait a second, then push the new image to the DOM so\n",
       "    // that it is saved nicely (might be nice to debounce this).\n",
       "    setTimeout(function () { fig.push_to_output() }, 1000);\n",
       "}\n",
       "\n",
       "mpl.figure.prototype._init_toolbar = function() {\n",
       "    var fig = this;\n",
       "\n",
       "    var nav_element = $('<div/>');\n",
       "    nav_element.attr('style', 'width: 100%');\n",
       "    this.root.append(nav_element);\n",
       "\n",
       "    // Define a callback function for later on.\n",
       "    function toolbar_event(event) {\n",
       "        return fig.toolbar_button_onclick(event['data']);\n",
       "    }\n",
       "    function toolbar_mouse_event(event) {\n",
       "        return fig.toolbar_button_onmouseover(event['data']);\n",
       "    }\n",
       "\n",
       "    for(var toolbar_ind in mpl.toolbar_items){\n",
       "        var name = mpl.toolbar_items[toolbar_ind][0];\n",
       "        var tooltip = mpl.toolbar_items[toolbar_ind][1];\n",
       "        var image = mpl.toolbar_items[toolbar_ind][2];\n",
       "        var method_name = mpl.toolbar_items[toolbar_ind][3];\n",
       "\n",
       "        if (!name) { continue; };\n",
       "\n",
       "        var button = $('<button class=\"btn btn-default\" href=\"#\" title=\"' + name + '\"><i class=\"fa ' + image + ' fa-lg\"></i></button>');\n",
       "        button.click(method_name, toolbar_event);\n",
       "        button.mouseover(tooltip, toolbar_mouse_event);\n",
       "        nav_element.append(button);\n",
       "    }\n",
       "\n",
       "    // Add the status bar.\n",
       "    var status_bar = $('<span class=\"mpl-message\" style=\"text-align:right; float: right;\"/>');\n",
       "    nav_element.append(status_bar);\n",
       "    this.message = status_bar[0];\n",
       "\n",
       "    // Add the close button to the window.\n",
       "    var buttongrp = $('<div class=\"btn-group inline pull-right\"></div>');\n",
       "    var button = $('<button class=\"btn btn-mini btn-primary\" href=\"#\" title=\"Stop Interaction\"><i class=\"fa fa-power-off icon-remove icon-large\"></i></button>');\n",
       "    button.click(function (evt) { fig.handle_close(fig, {}); } );\n",
       "    button.mouseover('Stop Interaction', toolbar_mouse_event);\n",
       "    buttongrp.append(button);\n",
       "    var titlebar = this.root.find($('.ui-dialog-titlebar'));\n",
       "    titlebar.prepend(buttongrp);\n",
       "}\n",
       "\n",
       "mpl.figure.prototype._root_extra_style = function(el){\n",
       "    var fig = this\n",
       "    el.on(\"remove\", function(){\n",
       "\tfig.close_ws(fig, {});\n",
       "    });\n",
       "}\n",
       "\n",
       "mpl.figure.prototype._canvas_extra_style = function(el){\n",
       "    // this is important to make the div 'focusable\n",
       "    el.attr('tabindex', 0)\n",
       "    // reach out to IPython and tell the keyboard manager to turn it's self\n",
       "    // off when our div gets focus\n",
       "\n",
       "    // location in version 3\n",
       "    if (IPython.notebook.keyboard_manager) {\n",
       "        IPython.notebook.keyboard_manager.register_events(el);\n",
       "    }\n",
       "    else {\n",
       "        // location in version 2\n",
       "        IPython.keyboard_manager.register_events(el);\n",
       "    }\n",
       "\n",
       "}\n",
       "\n",
       "mpl.figure.prototype._key_event_extra = function(event, name) {\n",
       "    var manager = IPython.notebook.keyboard_manager;\n",
       "    if (!manager)\n",
       "        manager = IPython.keyboard_manager;\n",
       "\n",
       "    // Check for shift+enter\n",
       "    if (event.shiftKey && event.which == 13) {\n",
       "        this.canvas_div.blur();\n",
       "        // select the cell after this one\n",
       "        var index = IPython.notebook.find_cell_index(this.cell_info[0]);\n",
       "        IPython.notebook.select(index + 1);\n",
       "    }\n",
       "}\n",
       "\n",
       "mpl.figure.prototype.handle_save = function(fig, msg) {\n",
       "    fig.ondownload(fig, null);\n",
       "}\n",
       "\n",
       "\n",
       "mpl.find_output_cell = function(html_output) {\n",
       "    // Return the cell and output element which can be found *uniquely* in the notebook.\n",
       "    // Note - this is a bit hacky, but it is done because the \"notebook_saving.Notebook\"\n",
       "    // IPython event is triggered only after the cells have been serialised, which for\n",
       "    // our purposes (turning an active figure into a static one), is too late.\n",
       "    var cells = IPython.notebook.get_cells();\n",
       "    var ncells = cells.length;\n",
       "    for (var i=0; i<ncells; i++) {\n",
       "        var cell = cells[i];\n",
       "        if (cell.cell_type === 'code'){\n",
       "            for (var j=0; j<cell.output_area.outputs.length; j++) {\n",
       "                var data = cell.output_area.outputs[j];\n",
       "                if (data.data) {\n",
       "                    // IPython >= 3 moved mimebundle to data attribute of output\n",
       "                    data = data.data;\n",
       "                }\n",
       "                if (data['text/html'] == html_output) {\n",
       "                    return [cell, data, j];\n",
       "                }\n",
       "            }\n",
       "        }\n",
       "    }\n",
       "}\n",
       "\n",
       "// Register the function which deals with the matplotlib target/channel.\n",
       "// The kernel may be null if the page has been refreshed.\n",
       "if (IPython.notebook.kernel != null) {\n",
       "    IPython.notebook.kernel.comm_manager.register_target('matplotlib', mpl.mpl_figure_comm);\n",
       "}\n"
      ],
      "text/plain": [
       "<IPython.core.display.Javascript object>"
      ]
     },
     "metadata": {},
     "output_type": "display_data"
    },
    {
     "data": {
      "text/html": [
       "<img src=\"data:image/png;base64,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\" width=\"852.75\">"
      ],
      "text/plain": [
       "<IPython.core.display.HTML object>"
      ]
     },
     "metadata": {},
     "output_type": "display_data"
    }
   ],
   "source": [
    "%matplotlib notebook\n",
    "from mpl_toolkits.mplot3d import Axes3D\n",
    "from sklearn.datasets.samples_generator import make_blobs\n",
    "\n",
    "\n",
    "centers = [[2, 1, 0], [0, -1, -1], [1, -1, 3]]\n",
    "data_3d, _ = make_blobs(n_samples=2500, centers=centers, cluster_std=0.37)\n",
    "x, y, z = data_3d[:,0], data_3d[:,1], data_3d[:,2]\n",
    "\n",
    "fig = plt.figure()\n",
    "ax = fig.add_subplot(111, projection='3d')\n",
    "ax.scatter(x, y, z, linewidth=0.2)\n",
    "\n",
    "plt.show()"
   ]
  },
  {
   "cell_type": "markdown",
   "metadata": {
    "slideshow": {
     "slide_type": "subslide"
    }
   },
   "source": [
    "## Feature vectors as descriptions of things\n",
    "\n",
    "Let's say we have a Person class:\n",
    "\n",
    "```python\n",
    "\n",
    "class Person:\n",
    "    \n",
    "    def __init__(self, age, height):\n",
    "        self.age = age\n",
    "        self.height = height\n",
    "```\n",
    "\n",
    "A Person is described by two **features**: `age` and `height`\n",
    "\n",
    "* So a **feature vector** for a person would have 2 dimensions\n",
    "  * $x^1 = $ age\n",
    "  * $x^2 = $ height"
   ]
  },
  {
   "cell_type": "markdown",
   "metadata": {
    "slideshow": {
     "slide_type": "subslide"
    }
   },
   "source": [
    "## Feature vectors in high dimensions\n",
    "\n",
    "* Imagine a grayscale image with the resolution `1024 x 800`\n",
    "  * How many pixels does that image have?\n",
    "  * each pixel has a value representing the greyscale color of the pixel"
   ]
  },
  {
   "cell_type": "markdown",
   "metadata": {
    "slideshow": {
     "slide_type": "fragment"
    }
   },
   "source": [
    "* That image has `1024 * 800 = 819200` features!  \n",
    "If x is our feature space:\n",
    "```python\n",
    "x[0]      # First feature\n",
    "x[819199] # Last feature\n",
    "```"
   ]
  },
  {
   "cell_type": "markdown",
   "metadata": {
    "slideshow": {
     "slide_type": "subslide"
    }
   },
   "source": [
    "## Motivating the problem\n",
    "\n",
    "“We need to be able to predict whether a particular\n",
    "customer will stay with us. Here are the logs of customers’ interactions with our product for\n",
    "five years.”"
   ]
  },
  {
   "cell_type": "markdown",
   "metadata": {
    "slideshow": {
     "slide_type": "subslide"
    }
   },
   "source": [
    "What information can we get from a log?\n",
    "\n",
    "* Timestamp\n",
    "* Number of connections\n",
    "* Frequency of connections\n",
    "* Session duration\n",
    "* ...?"
   ]
  },
  {
   "cell_type": "markdown",
   "metadata": {
    "slideshow": {
     "slide_type": "subslide"
    }
   },
   "source": [
    "The more precisely we can describe the data, the better our model gets!\n",
    "\n",
    "We want to select the information that is important and *remove* the ones that aren't."
   ]
  },
  {
   "cell_type": "markdown",
   "metadata": {
    "slideshow": {
     "slide_type": "slide"
    }
   },
   "source": [
    "## Feature engineering\n",
    "\n",
    "The problem of transforming raw data into a dataset is called feature engineering.\n",
    "\n",
    "Goal: describe data with *informative* features"
   ]
  },
  {
   "cell_type": "markdown",
   "metadata": {
    "slideshow": {
     "slide_type": "subslide"
    }
   },
   "source": [
    "### Overview of data encoding techniques\n",
    "* One-hot\n",
    "* Binning\n",
    "* Word embeddings\n",
    "* Normalisation\n",
    "* Standardisation\n",
    "* Dealing with missing features"
   ]
  },
  {
   "cell_type": "markdown",
   "metadata": {},
   "source": [
    "### Techniques to encode data in specific ways\n",
    "\n",
    "* One-hot\n",
    "  - the idea that a column with e.g countries is changed into many columns (each country has its own column) and then 0 or 1 indicate if that country is present in the data row\n",
    "* Binning\n",
    "  - grouping values into bins/categories eg: 1-10, 11-20, 21-30\n",
    "  - replacing values with categories\n",
    "* Word embeddings\n",
    "  - words that have similar context will have similar meanings.\n",
    "  - Embedding Layer: approach of learning an embedding layer requires a lot of training data and can be slow\n",
    "  - Word2Vec: was developed by Tomas Mikolov, et al. at Google in 2013\n",
    "  - GloVe: GloVe, a new global log-bilinear regression model for the unsupervised learning of word representations that outperforms other models on word analogy, word similarity\n",
    "* Normalisation\n",
    "  - data for machine learning must be 1. binary (2 possible values), 2. nummeric, or 3. categorical\n",
    "  - nummeric data must be normalized by eg converting to standard diviation from mean (whereby values will range between -6.0 and +6.0 and thus be comparable to other data of different scale.\n",
    "* Standardisation\n",
    "  - a standardization object is created to hold all features (dependend and independent) in a standardized and normalized form with values like 1, -1, (0,0,1.0,0) and -1.34\n",
    "* Dealing with missing features\n",
    "  1. Removing the feature from dataset if it’s highly correlated with another data.\n",
    "  2. Guessing it’s value on different factors if it’s moderately correlated with another data.\n",
    "  3. Removing the training examples that have any feature missing/\n",
    "  4. Setting the missing features to 0 (remember to scale accordingly every feature to <-1, 1>).\n",
    "  5. Preprocessing the data to a different format that better handle missing values.\n",
    "  6. Selecting a model that handle missing values better (eg. use a neural network instead of decision tree)"
   ]
  },
  {
   "cell_type": "markdown",
   "metadata": {
    "slideshow": {
     "slide_type": "subslide"
    }
   },
   "source": [
    "## One-hot encoding\n",
    "\n",
    "Imagine $n$ features. One-hot encoding means setting **one** feature to 1 and the rest to 0.\n",
    "\n",
    "Example:\n",
    " * Features `[Left, Right]`: `[1, 0]`\n",
    " * Features `[M, T, W, T, F, S, S]`: `[0, 0, 1, 0, 0, 0]`\n",
    " * Features `[M, F, X]`: `[0, 1, 0]`"
   ]
  },
  {
   "cell_type": "code",
   "execution_count": 5,
   "metadata": {
    "slideshow": {
     "slide_type": "subslide"
    }
   },
   "outputs": [
    {
     "data": {
      "text/plain": [
       "array([[0., 1.],\n",
       "       [1., 0.],\n",
       "       [1., 0.]])"
      ]
     },
     "execution_count": 5,
     "metadata": {},
     "output_type": "execute_result"
    }
   ],
   "source": [
    "from sklearn.preprocessing import OneHotEncoder\n",
    "encoder = OneHotEncoder()\n",
    "xs = [['Male'], ['Female'], ['Female']]\n",
    "encoder.fit_transform(xs).toarray()"
   ]
  },
  {
   "cell_type": "code",
   "execution_count": 6,
   "metadata": {
    "slideshow": {
     "slide_type": "subslide"
    }
   },
   "outputs": [
    {
     "data": {
      "text/plain": [
       "matrix([[0., 1.],\n",
       "        [1., 0.],\n",
       "        [1., 0.]])"
      ]
     },
     "execution_count": 6,
     "metadata": {},
     "output_type": "execute_result"
    }
   ],
   "source": [
    "encoder.fit_transform(xs).todense()"
   ]
  },
  {
   "cell_type": "code",
   "execution_count": 2,
   "metadata": {
    "slideshow": {
     "slide_type": "subslide"
    }
   },
   "outputs": [
    {
     "name": "stdout",
     "output_type": "stream",
     "text": [
      "col1 is female, col2 is male, col3 is 1, col4 is 2, col5 is 3\n"
     ]
    },
    {
     "data": {
      "text/plain": [
       "matrix([[0., 1., 1., 0., 0.],\n",
       "        [1., 0., 0., 0., 1.],\n",
       "        [1., 0., 0., 1., 0.],\n",
       "        [0., 1., 0., 0., 1.]])"
      ]
     },
     "execution_count": 2,
     "metadata": {},
     "output_type": "execute_result"
    }
   ],
   "source": [
    "from sklearn.preprocessing import OneHotEncoder\n",
    "encoder = OneHotEncoder()\n",
    "xs = [['Male', 1], ['Female', 3], ['Female', 2], ['Male', 3]]\n",
    "print('col1 is female, col2 is male, col3 is 1, col4 is 2, col5 is 3')\n",
    "encoder.fit_transform(xs).todense()"
   ]
  },
  {
   "cell_type": "markdown",
   "metadata": {
    "slideshow": {
     "slide_type": "subslide"
    }
   },
   "source": [
    "## Word embeddings\n",
    "See [Explanation here](https://machinelearningmastery.com/what-are-word-embeddings/)\n",
    "\n",
    "How do we represent words?\n",
    "\n",
    "Can we make them into feature vectors?\n",
    "\n",
    "Definition: Feature vector:\n",
    "- A vector is a series of numbers. It is like a matrix with only one row but multiple columns (or only one column but multiple rows). An example is: [1,2,3,5,6,3,2,0].\n",
    "- A feature vector is just a vector that contains information describing an object's important characteristics."
   ]
  },
  {
   "cell_type": "markdown",
   "metadata": {
    "slideshow": {
     "slide_type": "subslide"
    }
   },
   "source": [
    "**Yes we can!** [See scikit-learn tutorial here](https://scikit-learn.org/stable/tutorial/text_analytics/working_with_text_data.html)\n",
    "\n",
    "![](images/word-embeddings.png)"
   ]
  },
  {
   "cell_type": "code",
   "execution_count": 3,
   "metadata": {
    "slideshow": {
     "slide_type": "subslide"
    }
   },
   "outputs": [
    {
     "name": "stdout",
     "output_type": "stream",
     "text": [
      "<class 'scipy.sparse.csr.csr_matrix'>\n",
      "1\n",
      "document occurs [[4]] times in the text\n",
      "1 is the index for document\n",
      "There are 9 different words in the 4 sentences\n",
      " ['and', 'document', 'first', 'is', 'it', 'one', 'second', 'the', 'third', 'this']\n",
      "In second sentence document occurs twice, which tells us that \"document\" is in second collumn\n",
      "[[0 1 1 1 0 0 0 1 0 1]\n",
      " [0 2 0 1 0 0 1 1 0 1]\n",
      " [1 0 0 1 0 1 0 1 1 1]\n",
      " [0 1 1 2 1 0 0 1 0 1]]\n",
      "------------------------\n",
      "[[0 1 1 1 0 0 0 1 0 1]\n",
      " [0 2 0 1 0 0 1 1 0 1]\n",
      " [1 0 0 1 0 1 0 1 1 1]\n",
      " [0 1 1 2 1 0 0 1 0 1]]\n",
      "------------------------\n"
     ]
    }
   ],
   "source": [
    "from sklearn.feature_extraction.text import CountVectorizer\n",
    "corpus = [\n",
    "    'This is the first document.',\n",
    "    'This document is the second document.',\n",
    "    'And this is the third one.',\n",
    "    'Is this the first document? Is it?',\n",
    "]\n",
    "vectorizer = CountVectorizer()\n",
    "\n",
    "fit = vectorizer.fit_transform(corpus)\n",
    "print(type(fit))\n",
    "res = fit.todense() # returns a numpy array of same shape\"\n",
    "document_idx = vectorizer.vocabulary_['document']\n",
    "print(document_idx)\n",
    "document_count = sum(res[:,document_idx]) # sum all row cells where column == index\n",
    "print('document occurs {} times in the text'.format(document_count))\n",
    "print('{} is the index for document'.format(document_idx))\n",
    "mat = fit.toarray()\n",
    "print('There are 9 different words in the 4 sentences\\n',vectorizer.get_feature_names())\n",
    "print('In second sentence document occurs twice, which tells us that \"document\" is in second collumn')\n",
    "print(res)\n",
    "print('------------------------')\n",
    "print(mat)\n",
    "print('------------------------')"
   ]
  },
  {
   "cell_type": "code",
   "execution_count": 9,
   "metadata": {
    "slideshow": {
     "slide_type": "fragment"
    }
   },
   "outputs": [
    {
     "name": "stdout",
     "output_type": "stream",
     "text": [
      "['and', 'document', 'first', 'is', 'it', 'one', 'second', 'the', 'third', 'this']\n"
     ]
    }
   ],
   "source": [
    "print(vectorizer.get_feature_names())"
   ]
  },
  {
   "cell_type": "markdown",
   "metadata": {
    "slideshow": {
     "slide_type": "subslide"
    }
   },
   "source": [
    "## Exercise\n",
    "\n",
    "* Use the `CountVectorizer` from `sklearn.feature_extraction` to read the book `data/moby_dick.txt`\n",
    "  * How many times does the word 'wood' appear?\n",
    "* Use the `load_digits` function from the `sklearn.datasets` package to load a `sklearn` dataset\n",
    "  * The package contains `.data` of 8x8 images. Extract the first image in an 8x8 array\n",
    "  * Use the `plt.imshow` function to plot the image"
   ]
  },
  {
   "cell_type": "markdown",
   "metadata": {
    "slideshow": {
     "slide_type": "subslide"
    }
   },
   "source": [
    "## Modelling\n",
    "#### What is a model?"
   ]
  },
  {
   "cell_type": "markdown",
   "metadata": {
    "slideshow": {
     "slide_type": "subslide"
    }
   },
   "source": [
    "* A **simplified** representation"
   ]
  },
  {
   "cell_type": "markdown",
   "metadata": {
    "slideshow": {
     "slide_type": "subslide"
    }
   },
   "source": [
    "## 3 Popular model types \n",
    "\n",
    "* Regression\n",
    "  * What is the value of 'Y' at 'X?'\n",
    "* Classification\n",
    "  * Is it an 'X'?\n",
    "* Clustering\n",
    "  * Is this closest to 'X' or 'Y'?"
   ]
  },
  {
   "cell_type": "markdown",
   "metadata": {
    "slideshow": {
     "slide_type": "subslide"
    }
   },
   "source": [
    "## Recap\n",
    "\n",
    "* Model types\n",
    "    * Regression\n",
    "    * Classification\n",
    "    * Clustering\n",
    "* Models are\n",
    "    1. Constructed\n",
    "    2. Trained\n",
    "    3. Tested"
   ]
  }
 ],
 "metadata": {
  "celltoolbar": "Slideshow",
  "kernelspec": {
   "display_name": "Python 3",
   "language": "python",
   "name": "python3"
  },
  "language_info": {
   "codemirror_mode": {
    "name": "ipython",
    "version": 3
   },
   "file_extension": ".py",
   "mimetype": "text/x-python",
   "name": "python",
   "nbconvert_exporter": "python",
   "pygments_lexer": "ipython3",
   "version": "3.7.6"
  },
  "varInspector": {
   "cols": {
    "lenName": 16,
    "lenType": 16,
    "lenVar": 40
   },
   "kernels_config": {
    "python": {
     "delete_cmd_postfix": "",
     "delete_cmd_prefix": "del ",
     "library": "var_list.py",
     "varRefreshCmd": "print(var_dic_list())"
    },
    "r": {
     "delete_cmd_postfix": ") ",
     "delete_cmd_prefix": "rm(",
     "library": "var_list.r",
     "varRefreshCmd": "cat(var_dic_list()) "
    }
   },
   "types_to_exclude": [
    "module",
    "function",
    "builtin_function_or_method",
    "instance",
    "_Feature"
   ],
   "window_display": false
  }
 },
 "nbformat": 4,
 "nbformat_minor": 2
}
