{
 "cells": [
  {
   "cell_type": "markdown",
   "metadata": {},
   "source": [
    "## Exercise 1\n",
    "1. Create a python file with 3 functions:\n",
    "  1. `def print_file_content(file)` that can print content of a csv file to the console\n",
    "  2. `def write_list_to_file(output_file, lst)` that can take a list of tuple and write each element to a new line in file\n",
    "    1. rewrite the function so that it gets an arbitrary number of strings instead of a list\n",
    "  3. `def read_csv(input_file)` that take a csv file and read each row into a list\n",
    "2. Add a functionality so that the file can be called from cli with 2 arguments\n",
    "  1. path to csv file\n",
    "  2. an argument `--file file_name` that if given will write the content to file_name or otherwise will print it to the console.\n",
    "3. Add a --help cli argument to describe how the module is used  \n",
    "\n",
    "## Exercise 2\n",
    "Create a module called utils.py and put the following functions inside:\n",
    "1. first function takes a path to a folder and writes all filenames in the folder to a specified output file\n",
    "2. second takes a path to a folder and write all filenames recursively (files of all sub folders to)\n",
    "3. third takes a list of filenames and print the first line of each\n",
    "4. fourth takes a list of filenames and print each line that contains an email (just look for @)\n",
    "5. fifth takes a list of md files and writes all headlines (lines starting with #) to a file\n",
    "Make sure your module can be called both from cli and imported to another module\n",
    "Create a new module that imports utils.py and test each function."
   ]
  },
  {
   "cell_type": "markdown",
   "metadata": {},
   "source": [
    "### Exercise 1\n",
    "#### 1"
   ]
  },
  {
   "cell_type": "markdown",
   "metadata": {},
   "source": [
    "#### A."
   ]
  },
  {
   "cell_type": "code",
   "execution_count": 222,
   "metadata": {
    "scrolled": false
   },
   "outputs": [
    {
     "name": "stdout",
     "output_type": "stream",
     "text": [
      "['Sally Whittaker', '2018', 'McCarren House', '312', '3.75']\n",
      "['Belinda Jameson', '2017', 'Cushing House', '148', '3.52']\n",
      "['Jeff Smith', '2018', 'Prescott House', '17-D', '3.20']\n",
      "['Sandy Allen', '2019', 'Oliver House', '108', '3.48']\n"
     ]
    }
   ],
   "source": [
    "import csv\n",
    "\n",
    "# Exercise 1.1\n",
    "# A.\n",
    "\n",
    "file = '../notebooks/my_modules/exercise_two_A.csv' \n",
    "\n",
    "def print_file_content(file):\n",
    "\n",
    "    with open(file) as file_o:\n",
    "        reader = csv.reader(file_o)\n",
    "        for row in reader:\n",
    "            print(row)\n",
    "            \n",
    "print_file_content(file)    "
   ]
  },
  {
   "cell_type": "markdown",
   "metadata": {},
   "source": [
    "#### B."
   ]
  },
  {
   "cell_type": "code",
   "execution_count": 221,
   "metadata": {},
   "outputs": [
    {
     "name": "stdout",
     "output_type": "stream",
     "text": [
      "('hej', 'kajkaj', 'hejkaj')\n",
      "('bum', 'dabum', 'dadabum')\n",
      "('hmm', 'hmmhmmm', 'hm')\n"
     ]
    }
   ],
   "source": [
    "\n",
    "# Exercise 1.1\n",
    "# B.\n",
    "\n",
    "lst = [('hej','kajkaj','hejkaj'),('bum','dabum','dadabum'),('hmm','hmmhmmm','hm')]\n",
    "output_file = '../notebooks/my_modules/Exercise_2_B.'\n",
    "\n",
    "def write_list_to_file(output_file, lst):\n",
    "    \n",
    "    with open(output_file, 'w') as file_object:\n",
    "        file_object.write('\\n'.join(map(str, lst)))\n",
    "        \n",
    "    with open(output_file) as file_o:\n",
    "              content = file_o.read()\n",
    "              print(content)  \n",
    "\n",
    "\n",
    "write_list_to_file(output_file, lst)\n"
   ]
  },
  {
   "cell_type": "code",
   "execution_count": 220,
   "metadata": {
    "scrolled": false
   },
   "outputs": [
    {
     "name": "stdout",
     "output_type": "stream",
     "text": [
      "Mængde af arbitrary strings (variates): 6\n",
      "\n",
      "hej\n",
      "kajkaj\n",
      "hejkaj\n",
      "bum\n",
      "dabum\n",
      "dadabum\n"
     ]
    }
   ],
   "source": [
    "\n",
    "# Exercise 1.1\n",
    "# B. - a.\n",
    "\n",
    "import random\n",
    "\n",
    "randS = random.randint(2,15)\n",
    "print(\"Mængde af arbitrary strings (variates): %d\" % randS)\n",
    "\n",
    "#for randS in range(0, randS):\n",
    "#    print(\"Loop nummer %d\" % (randS+1))\n",
    "\n",
    "print(\"\")\n",
    "    \n",
    "lst = ['hej','kajkaj','hejkaj','bum','dabum','dadabum','hmm','hmmhmmm','hm','213','jepjep','awe','grrr','verdana','ord']\n",
    "output_file2 = '../notebooks/my_modules/Exercise_2_B_a.txt'\n",
    "\n",
    "def write_list_to_file_v2(output_file, lst, randS):\n",
    "    \n",
    "    with open(output_file2, 'w') as file_object:\n",
    "        for i,item in enumerate(lst):\n",
    "                \n",
    "                print(item)\n",
    "                \n",
    "                if i == 0:\n",
    "                    file_object.write(lst[i])\n",
    "                if i != 0:\n",
    "                    file_object.write('\\n'+lst[i])\n",
    "                if i == randS-1:\n",
    "                    break                          \n",
    "        \n",
    "    with open(output_file2) as file_o:\n",
    "              content = file_o.read()\n",
    "              #print(content)  \n",
    "\n",
    "\n",
    "write_list_to_file_v2(output_file2, lst, randS)\n"
   ]
  },
  {
   "cell_type": "markdown",
   "metadata": {},
   "source": [
    "#### C."
   ]
  },
  {
   "cell_type": "code",
   "execution_count": 218,
   "metadata": {},
   "outputs": [],
   "source": [
    "\n",
    "# Exercise 1.1\n",
    "# C.\n",
    "\n",
    "\n",
    "input_file = '../notebooks/my_modules/Exercise_2_B.txt'\n",
    "\n",
    "def read_csv(input_file):\n",
    "    \n",
    "    pass\n",
    "\n",
    "#STOPPED HERE AND MADE PY FILE FOR EXCERCISE!\n"
   ]
  },
  {
   "cell_type": "markdown",
   "metadata": {},
   "source": [
    "## Exercise 2"
   ]
  },
  {
   "cell_type": "code",
   "execution_count": 217,
   "metadata": {},
   "outputs": [
    {
     "name": "stdout",
     "output_type": "stream",
     "text": [
      "fileone.txt\n",
      "filethree.txt\n",
      "filetwo.txt\n"
     ]
    }
   ],
   "source": [
    "\n",
    "# Exercise 2.1\n",
    "\n",
    "import os\n",
    "from pathlib import Path\n",
    "\n",
    "#Path('/root/dir/sub/ffle.ext').stem\n",
    "\n",
    "def exercise2_1():\n",
    "\n",
    "    pathlist = Path('../notebooks/file_folder').glob('**/*.txt')\n",
    "    \n",
    "    for path in pathlist:\n",
    "         # because path is object not string\n",
    "        path_in_str = str(path)\n",
    "        print(os.path.basename(path_in_str))\n",
    "\n",
    "        output_file = '../notebooks/file_folder_output/file_output.txt'\n",
    "    \n",
    "    \n",
    "        with open(output_file, 'a') as file_object:\n",
    "            file_object.write(os.path.basename(path_in_str)+\"\\n\")\n",
    "       \n",
    "        \n",
    "        \n",
    "exercise2_1()\n",
    "          "
   ]
  },
  {
   "cell_type": "code",
   "execution_count": 213,
   "metadata": {},
   "outputs": [
    {
     "name": "stdout",
     "output_type": "stream",
     "text": [
      "\n",
      "Folder: ../notebooks/file_folder\n",
      "fileone.txt\n",
      "filethree.txt\n",
      "filetwo.txt\n",
      "Folder: ../notebooks/file_folder\\.ipynb_checkpoints\n",
      "Folder: ../notebooks/file_folder\\File_folder_sub_folder\n"
     ]
    }
   ],
   "source": [
    "\n",
    "# Exercise 2.2\n",
    "# second takes a path to a folder and write all filenames recursively (files of all sub folders to)\n",
    "\n",
    "def exercise2_2():\n",
    "    \n",
    "    path = '../notebooks/file_folder'\n",
    "    output_file = '../notebooks/file_folder_output/file_output2.txt'\n",
    "    \n",
    "    with open(output_file, 'w') as file_object:\n",
    "        for dName, subdList, fileList in os.walk(path):\n",
    "            file_object.write('\\nFolder: %s' % dName)\n",
    "            for fname in fileList:\n",
    "                file_object.write('\\n%s' % fname)\n",
    "                \n",
    "                \n",
    "    with open(output_file) as file_o:\n",
    "        content = file_o.read()\n",
    "        print(content) \n",
    "\n",
    "        \n",
    "        \n",
    "exercise2_2()\n"
   ]
  },
  {
   "cell_type": "code",
   "execution_count": 208,
   "metadata": {},
   "outputs": [
    {
     "name": "stdout",
     "output_type": "stream",
     "text": [
      "tekst fra foerste fil\n",
      "\n",
      "tekst fra tredje fil\n",
      "\n",
      "tekst fra anden fil\n",
      "\n"
     ]
    }
   ],
   "source": [
    "\n",
    "# Exercise 2.3\n",
    "# third takes a list of filenames and print the first line of each\n",
    "\n",
    "def exercise2_3():\n",
    "\n",
    "    pathlist = Path('../notebooks/file_folder').glob('**/*.txt')\n",
    "    \n",
    "    for path in pathlist:\n",
    "         # because path is object not string\n",
    "        path_in_str = str(path)\n",
    "        #print(os.path.basename(path_in_str))\n",
    "        with open(path, 'r') as file_object_read:\n",
    "            f_lines = file_object_read.readline()\n",
    "            print(f_lines)\n",
    "       \n",
    "        \n",
    "        \n",
    "exercise2_3()\n"
   ]
  },
  {
   "cell_type": "code",
   "execution_count": 209,
   "metadata": {},
   "outputs": [
    {
     "name": "stdout",
     "output_type": "stream",
     "text": [
      "Email: John@hotmail.com Found in file: fileone.txt\n",
      "Email: kaldekaldsen@gmail.com Found in file: filethree.txt\n",
      "Email: franspeterson@yahoo.dk Found in file: filethree.txt\n",
      "Email: joenkehansen@hotmail.com Found in file: filetwo.txt\n"
     ]
    }
   ],
   "source": [
    "\n",
    "# Exercise 2.4\n",
    "# fourth takes a list of filenames and print each line that contains an email (just look for @)\n",
    "\n",
    "def exercise2_4():\n",
    "    \n",
    "    pathlist = Path('../notebooks/file_folder').glob('**/*.txt')\n",
    "    \n",
    "    for path in pathlist:\n",
    "         # because path is object not string\n",
    "        path_in_str = str(path)        \n",
    "        with open(path, 'r') as f_mail:\n",
    "            f_mail_lines =  f_mail.readlines()\n",
    "            for line in f_mail_lines:\n",
    "                if '@' in line:\n",
    "                    print('Email: ' + line.rstrip() + ' Found in file: ' + os.path.basename(path_in_str))\n",
    "\n",
    "\n",
    "\n",
    "exercise2_4()\n"
   ]
  },
  {
   "cell_type": "code",
   "execution_count": null,
   "metadata": {},
   "outputs": [],
   "source": [
    "\n",
    "# Exercise 2.5\n",
    "#fifth takes a list of md files and writes all headlines (lines starting with #)\n",
    "#to a file Make sure your module can be called both from cli and imported to another module Create\n",
    "#a new module that imports utils.py and test each function.\n",
    "\n",
    "# TODO make a util.py module too instead of notebooks.\n",
    "\n",
    "\n",
    "\n",
    "\n",
    "\n",
    "\n",
    "\n",
    "\n",
    "\n"
   ]
  }
 ],
 "metadata": {
  "kernelspec": {
   "display_name": "Python 3",
   "language": "python",
   "name": "python3"
  },
  "language_info": {
   "codemirror_mode": {
    "name": "ipython",
    "version": 3
   },
   "file_extension": ".py",
   "mimetype": "text/x-python",
   "name": "python",
   "nbconvert_exporter": "python",
   "pygments_lexer": "ipython3",
   "version": "3.7.6"
  },
  "varInspector": {
   "cols": {
    "lenName": 16,
    "lenType": 16,
    "lenVar": 40
   },
   "kernels_config": {
    "python": {
     "delete_cmd_postfix": "",
     "delete_cmd_prefix": "del ",
     "library": "var_list.py",
     "varRefreshCmd": "print(var_dic_list())"
    },
    "r": {
     "delete_cmd_postfix": ") ",
     "delete_cmd_prefix": "rm(",
     "library": "var_list.r",
     "varRefreshCmd": "cat(var_dic_list()) "
    }
   },
   "types_to_exclude": [
    "module",
    "function",
    "builtin_function_or_method",
    "instance",
    "_Feature"
   ],
   "window_display": false
  }
 },
 "nbformat": 4,
 "nbformat_minor": 2
}
